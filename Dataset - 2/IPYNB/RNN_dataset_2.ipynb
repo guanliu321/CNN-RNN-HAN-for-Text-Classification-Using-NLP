{
  "nbformat": 4,
  "nbformat_minor": 0,
  "metadata": {
    "colab": {
      "name": "RNN - dataset 2",
      "version": "0.3.2",
      "provenance": [],
      "collapsed_sections": [],
      "include_colab_link": true
    },
    "kernelspec": {
      "name": "python3",
      "display_name": "Python 3"
    },
    "accelerator": "GPU"
  },
  "cells": [
    {
      "cell_type": "markdown",
      "metadata": {
        "id": "view-in-github",
        "colab_type": "text"
      },
      "source": [
        "<a href=\"https://colab.research.google.com/github/rachit-shah/adbi-project/blob/master/RNN_dataset_2.ipynb\" target=\"_parent\"><img src=\"https://colab.research.google.com/assets/colab-badge.svg\" alt=\"Open In Colab\"/></a>"
      ]
    },
    {
      "cell_type": "markdown",
      "metadata": {
        "id": "BToPi2JX6jzd",
        "colab_type": "text"
      },
      "source": [
        "## Load Data and Glove Model From Drive"
      ]
    },
    {
      "cell_type": "code",
      "metadata": {
        "id": "JvS3pf0t6zsk",
        "colab_type": "code",
        "outputId": "4d68dee0-5dc0-4edb-8f8a-aca2738c6777",
        "colab": {
          "base_uri": "https://localhost:8080/",
          "height": 124
        }
      },
      "source": [
        "# Mounting google drive to access data and glove model\n",
        "from google.colab import drive\n",
        "drive.mount('/content/gdrive')"
      ],
      "execution_count": 2,
      "outputs": [
        {
          "output_type": "stream",
          "text": [
            "Go to this URL in a browser: https://accounts.google.com/o/oauth2/auth?client_id=947318989803-6bn6qk8qdgf4n4g3pfee6491hc0brc4i.apps.googleusercontent.com&redirect_uri=urn%3Aietf%3Awg%3Aoauth%3A2.0%3Aoob&scope=email%20https%3A%2F%2Fwww.googleapis.com%2Fauth%2Fdocs.test%20https%3A%2F%2Fwww.googleapis.com%2Fauth%2Fdrive%20https%3A%2F%2Fwww.googleapis.com%2Fauth%2Fdrive.photos.readonly%20https%3A%2F%2Fwww.googleapis.com%2Fauth%2Fpeopleapi.readonly&response_type=code\n",
            "\n",
            "Enter your authorization code:\n",
            "··········\n",
            "Mounted at /content/gdrive\n"
          ],
          "name": "stdout"
        }
      ]
    },
    {
      "cell_type": "code",
      "metadata": {
        "id": "e9s7l5uI7QWJ",
        "colab_type": "code",
        "outputId": "0f48ce66-2ec1-478b-80eb-0579f40a5f8a",
        "colab": {
          "base_uri": "https://localhost:8080/",
          "height": 829
        }
      },
      "source": [
        "#import all required packages and modules.\n",
        "import pandas as pd\n",
        "import numpy as np\n",
        "import matplotlib.pyplot as plt\n",
        "import os\n",
        "%matplotlib inline\n",
        "import nltk\n",
        "nltk.download('popular')\n",
        "\n",
        "from keras.preprocessing.text import Tokenizer\n",
        "from keras.preprocessing.sequence import pad_sequences\n",
        "from keras.utils import to_categorical\n",
        "from keras.layers import Dense, Input, GlobalMaxPooling1D, Dropout, LSTM, GRU, Bidirectional, SpatialDropout1D\n",
        "from keras.layers import Conv1D, MaxPooling1D, Embedding, Flatten\n",
        "from keras.callbacks import ModelCheckpoint, EarlyStopping, TensorBoard\n",
        "from keras.models import Model\n",
        "from keras.initializers import Constant\n",
        "\n",
        "from wordcloud import WordCloud\n",
        "import matplotlib.pyplot as plt\n",
        "from sklearn.feature_extraction import text \n",
        "from wordcloud import WordCloud, STOPWORDS\n",
        "\n",
        "from sklearn.preprocessing import LabelEncoder\n",
        "import pickle\n",
        "import numpy as np\n",
        "from sklearn.model_selection import train_test_split\n",
        "\n",
        "import nltk.corpus\n",
        "import string\n",
        "from nltk.tokenize import word_tokenize,sent_tokenize\n",
        "from nltk.stem import WordNetLemmatizer\n",
        "\n",
        "from keras.layers import Embedding\n",
        "from keras.models import model_from_json\n",
        "import time\n",
        "from sklearn.datasets import fetch_20newsgroups\n"
      ],
      "execution_count": 3,
      "outputs": [
        {
          "output_type": "stream",
          "text": [
            "[nltk_data] Downloading collection 'popular'\n",
            "[nltk_data]    | \n",
            "[nltk_data]    | Downloading package cmudict to /root/nltk_data...\n",
            "[nltk_data]    |   Unzipping corpora/cmudict.zip.\n",
            "[nltk_data]    | Downloading package gazetteers to /root/nltk_data...\n",
            "[nltk_data]    |   Unzipping corpora/gazetteers.zip.\n",
            "[nltk_data]    | Downloading package genesis to /root/nltk_data...\n",
            "[nltk_data]    |   Unzipping corpora/genesis.zip.\n",
            "[nltk_data]    | Downloading package gutenberg to /root/nltk_data...\n",
            "[nltk_data]    |   Unzipping corpora/gutenberg.zip.\n",
            "[nltk_data]    | Downloading package inaugural to /root/nltk_data...\n",
            "[nltk_data]    |   Unzipping corpora/inaugural.zip.\n",
            "[nltk_data]    | Downloading package movie_reviews to\n",
            "[nltk_data]    |     /root/nltk_data...\n",
            "[nltk_data]    |   Unzipping corpora/movie_reviews.zip.\n",
            "[nltk_data]    | Downloading package names to /root/nltk_data...\n",
            "[nltk_data]    |   Unzipping corpora/names.zip.\n",
            "[nltk_data]    | Downloading package shakespeare to /root/nltk_data...\n",
            "[nltk_data]    |   Unzipping corpora/shakespeare.zip.\n",
            "[nltk_data]    | Downloading package stopwords to /root/nltk_data...\n",
            "[nltk_data]    |   Unzipping corpora/stopwords.zip.\n",
            "[nltk_data]    | Downloading package treebank to /root/nltk_data...\n",
            "[nltk_data]    |   Unzipping corpora/treebank.zip.\n",
            "[nltk_data]    | Downloading package twitter_samples to\n",
            "[nltk_data]    |     /root/nltk_data...\n",
            "[nltk_data]    |   Unzipping corpora/twitter_samples.zip.\n",
            "[nltk_data]    | Downloading package omw to /root/nltk_data...\n",
            "[nltk_data]    |   Unzipping corpora/omw.zip.\n",
            "[nltk_data]    | Downloading package wordnet to /root/nltk_data...\n",
            "[nltk_data]    |   Unzipping corpora/wordnet.zip.\n",
            "[nltk_data]    | Downloading package wordnet_ic to /root/nltk_data...\n",
            "[nltk_data]    |   Unzipping corpora/wordnet_ic.zip.\n",
            "[nltk_data]    | Downloading package words to /root/nltk_data...\n",
            "[nltk_data]    |   Unzipping corpora/words.zip.\n",
            "[nltk_data]    | Downloading package maxent_ne_chunker to\n",
            "[nltk_data]    |     /root/nltk_data...\n",
            "[nltk_data]    |   Unzipping chunkers/maxent_ne_chunker.zip.\n",
            "[nltk_data]    | Downloading package punkt to /root/nltk_data...\n",
            "[nltk_data]    |   Unzipping tokenizers/punkt.zip.\n",
            "[nltk_data]    | Downloading package snowball_data to\n",
            "[nltk_data]    |     /root/nltk_data...\n",
            "[nltk_data]    | Downloading package averaged_perceptron_tagger to\n",
            "[nltk_data]    |     /root/nltk_data...\n",
            "[nltk_data]    |   Unzipping taggers/averaged_perceptron_tagger.zip.\n",
            "[nltk_data]    | \n",
            "[nltk_data]  Done downloading collection popular\n"
          ],
          "name": "stdout"
        },
        {
          "output_type": "stream",
          "text": [
            "Using TensorFlow backend.\n"
          ],
          "name": "stderr"
        }
      ]
    },
    {
      "cell_type": "code",
      "metadata": {
        "id": "z8c7Ay-J7Qwh",
        "colab_type": "code",
        "outputId": "9064d2a4-6f70-431f-9581-4c93a6a8a35f",
        "colab": {
          "base_uri": "https://localhost:8080/",
          "height": 104
        }
      },
      "source": [
        "# copying dataset and embedding from drive. Unpacking the compressed files\n",
        "#!cp gdrive/'My Drive'/bbc-fulltext.zip .\n",
        "!cp gdrive/'My Drive'/glove.6B.zip .\n",
        "#!unzip bbc-fulltext.zip > out.txt\n",
        "#!rm bbc/README.TXT\n",
        "!unzip glove.6B.zip"
      ],
      "execution_count": 4,
      "outputs": [
        {
          "output_type": "stream",
          "text": [
            "Archive:  glove.6B.zip\n",
            "  inflating: glove.6B.50d.txt        \n",
            "  inflating: glove.6B.100d.txt       \n",
            "  inflating: glove.6B.200d.txt       \n",
            "  inflating: glove.6B.300d.txt       \n"
          ],
          "name": "stdout"
        }
      ]
    },
    {
      "cell_type": "code",
      "metadata": {
        "id": "hHySPyqdR9_C",
        "colab_type": "code",
        "colab": {}
      },
      "source": [
        "\n",
        "# from https://stackoverflow.com/questions/32419510/how-to-get-reproducible-results-in-keras\n",
        "# Seed value\n",
        "# Apparently you may use different seed values at each stage\n",
        "seed_value= 123\n",
        "\n",
        "# 1. Set `PYTHONHASHSEED` environment variable at a fixed value\n",
        "import os\n",
        "os.environ['PYTHONHASHSEED']=str(seed_value)\n",
        "\n",
        "# 2. Set `python` built-in pseudo-random generator at a fixed value\n",
        "import random\n",
        "random.seed(seed_value)\n",
        "\n",
        "# 3. Set `numpy` pseudo-random generator at a fixed value\n",
        "import numpy as np\n",
        "np.random.seed(seed_value)\n",
        "\n",
        "\n",
        "# 4. Set `tensorflow` pseudo-random generator at a fixed value\n",
        "import tensorflow as tf\n",
        "tf.set_random_seed(seed_value)\n",
        "\n",
        "# 5. Configure a new global `tensorflow` session\n",
        "from keras import backend as K\n",
        "session_conf = tf.ConfigProto(intra_op_parallelism_threads=1, inter_op_parallelism_threads=1)\n",
        "sess = tf.Session(graph=tf.get_default_graph(), config=session_conf)\n",
        "K.set_session(sess)\n"
      ],
      "execution_count": 0,
      "outputs": []
    },
    {
      "cell_type": "code",
      "metadata": {
        "id": "Ew62XD1v790p",
        "colab_type": "code",
        "outputId": "fa97d036-1f19-46ab-d2f5-88be73a55244",
        "colab": {
          "base_uri": "https://localhost:8080/",
          "height": 52
        }
      },
      "source": [
        "#Read Data\n",
        "'''\n",
        "categories = ['business','entertainment','politics','sport','tech']\n",
        "df = pd.DataFrame([],columns=['category','id','text'])\n",
        "for cat in categories:\n",
        "  for file in os.listdir(\"bbc/\"+cat):\n",
        "      if file.endswith(\".txt\"):\n",
        "          filepath = os.path.join(\"bbc/\"+cat, file)\n",
        "          text = open(filepath,'r', errors='ignore').read()\n",
        "          s = pd.Series([cat,int(filepath.split('/')[-1][:-4]),text],index=['category','id','text'])\n",
        "          df = df.append(s,ignore_index=True)\n",
        "\n",
        "df.head()\n",
        "'''\n",
        "data = fetch_20newsgroups(subset='train')\n",
        "test_data = fetch_20newsgroups(subset='test')"
      ],
      "execution_count": 6,
      "outputs": [
        {
          "output_type": "stream",
          "text": [
            "Downloading 20news dataset. This may take a few minutes.\n",
            "Downloading dataset from https://ndownloader.figshare.com/files/5975967 (14 MB)\n"
          ],
          "name": "stderr"
        }
      ]
    },
    {
      "cell_type": "code",
      "metadata": {
        "id": "uZXIyNwn8tT3",
        "colab_type": "code",
        "outputId": "1d81bc5a-b9b9-4993-da20-a83bbd4506bb",
        "colab": {
          "base_uri": "https://localhost:8080/",
          "height": 55
        }
      },
      "source": [
        "'''\n",
        "#WordCloud\n",
        "cat = df['category'].unique()\n",
        "\n",
        "for i in range(0,len(cat)):\n",
        "    words = ' '.join(df.loc[df['category']==cat[i], 'text'])\n",
        "\n",
        "    wordcloud = WordCloud( \n",
        "                          stopwords=STOPWORDS,\n",
        "                          background_color='white',\n",
        "                          width=800,\n",
        "                          height=400\n",
        "                ).generate(words)\n",
        "    print(cat[i])\n",
        "    plt.figure(figsize=(10, 5))\n",
        "    plt.imshow(wordcloud)\n",
        "    plt.axis('off')\n",
        "    plt.show()\n",
        "\n",
        "words = ' '.join(df.loc[:, 'text'])\n",
        "\n",
        "wordcloud = WordCloud( \n",
        "                      stopwords=STOPWORDS,\n",
        "                      background_color='white',\n",
        "                      width=800,\n",
        "                      height=400\n",
        "            ).generate(words)\n",
        "print(\"ALL Categories:\")\n",
        "plt.figure(figsize=(10, 5))\n",
        "plt.imshow(wordcloud)\n",
        "plt.axis('off')\n",
        "plt.show()\n",
        "'''\n"
      ],
      "execution_count": 7,
      "outputs": [
        {
          "output_type": "execute_result",
          "data": {
            "text/plain": [
              "'\\n#WordCloud\\ncat = df[\\'category\\'].unique()\\n\\nfor i in range(0,len(cat)):\\n    words = \\' \\'.join(df.loc[df[\\'category\\']==cat[i], \\'text\\'])\\n\\n    wordcloud = WordCloud( \\n                          stopwords=STOPWORDS,\\n                          background_color=\\'white\\',\\n                          width=800,\\n                          height=400\\n                ).generate(words)\\n    print(cat[i])\\n    plt.figure(figsize=(10, 5))\\n    plt.imshow(wordcloud)\\n    plt.axis(\\'off\\')\\n    plt.show()\\n\\nwords = \\' \\'.join(df.loc[:, \\'text\\'])\\n\\nwordcloud = WordCloud( \\n                      stopwords=STOPWORDS,\\n                      background_color=\\'white\\',\\n                      width=800,\\n                      height=400\\n            ).generate(words)\\nprint(\"ALL Categories:\")\\nplt.figure(figsize=(10, 5))\\nplt.imshow(wordcloud)\\nplt.axis(\\'off\\')\\nplt.show()\\n'"
            ]
          },
          "metadata": {
            "tags": []
          },
          "execution_count": 7
        }
      ]
    },
    {
      "cell_type": "markdown",
      "metadata": {
        "id": "JR2fsHlbr_Tj",
        "colab_type": "text"
      },
      "source": [
        "## Split Data"
      ]
    },
    {
      "cell_type": "code",
      "metadata": {
        "id": "385fGoXNldB0",
        "colab_type": "code",
        "colab": {}
      },
      "source": [
        "y_train = data.target\n",
        "X_train = pd.DataFrame({'text':data.data})\n",
        "X_test = pd.DataFrame({'text':test_data.data})\n",
        "y_test = test_data.target\n"
      ],
      "execution_count": 0,
      "outputs": []
    },
    {
      "cell_type": "code",
      "metadata": {
        "id": "erzVjIqvZ1NZ",
        "colab_type": "code",
        "outputId": "74455161-1ccc-456f-ca2f-5d65b091ad0b",
        "colab": {
          "base_uri": "https://localhost:8080/",
          "height": 407
        }
      },
      "source": [
        "ma = 0\n",
        "ls = []\n",
        "for x in data.data:\n",
        "  ls.append(len(x.split()))\n",
        "\n",
        "plt.boxplot(ls)"
      ],
      "execution_count": 9,
      "outputs": [
        {
          "output_type": "execute_result",
          "data": {
            "text/plain": [
              "{'boxes': [<matplotlib.lines.Line2D at 0x7f8dc1d2eda0>],\n",
              " 'caps': [<matplotlib.lines.Line2D at 0x7f8dc1d3a5f8>,\n",
              "  <matplotlib.lines.Line2D at 0x7f8dc1d3a940>],\n",
              " 'fliers': [<matplotlib.lines.Line2D at 0x7f8dc1d3afd0>],\n",
              " 'means': [],\n",
              " 'medians': [<matplotlib.lines.Line2D at 0x7f8dc1d3ac88>],\n",
              " 'whiskers': [<matplotlib.lines.Line2D at 0x7f8dc1d2eef0>,\n",
              "  <matplotlib.lines.Line2D at 0x7f8dc1d3a2b0>]}"
            ]
          },
          "metadata": {
            "tags": []
          },
          "execution_count": 9
        },
        {
          "output_type": "display_data",
          "data": {
            "image/png": "[encoded data removed]",
            "text/plain": [
              "<Figure size 432x288 with 1 Axes>"
            ]
          },
          "metadata": {
            "tags": []
          }
        }
      ]
    },
    {
      "cell_type": "markdown",
      "metadata": {
        "id": "1e6g_BjOsZ3i",
        "colab_type": "text"
      },
      "source": [
        "## Preprocess Data - (split by \\n, remove periods, remove slashes)"
      ]
    },
    {
      "cell_type": "code",
      "metadata": {
        "id": "fkDSvsY8cv5g",
        "colab_type": "code",
        "colab": {}
      },
      "source": [
        "#Parameters for hyperparameter  tuning\n",
        "dropout = 0.3\n",
        "bidirectional = False\n",
        "EMBEDDING_DIM = 200\n",
        "traina = True #embeedding layer trainable"
      ],
      "execution_count": 0,
      "outputs": []
    },
    {
      "cell_type": "code",
      "metadata": {
        "id": "_3Iv6MC3s26i",
        "colab_type": "code",
        "colab": {}
      },
      "source": [
        "def preprocess(X):\n",
        "  return X.map(lambda x: x.lower().split(\"\\n\")).map(lambda x: [y.split(\". \") for y in x]).map(lambda x: [i.replace('\\'','') for sl in x for i in sl if i is not ''])"
      ],
      "execution_count": 0,
      "outputs": []
    },
    {
      "cell_type": "code",
      "metadata": {
        "id": "6EgQMq_CtK8d",
        "colab_type": "code",
        "colab": {}
      },
      "source": [
        "#Preprocess both train and test separately\n",
        "X_train['text'] = preprocess(X_train['text'])\n",
        "X_test['text'] = preprocess(X_test['text'])"
      ],
      "execution_count": 0,
      "outputs": []
    },
    {
      "cell_type": "code",
      "metadata": {
        "id": "Wme2RkYu2UR0",
        "colab_type": "code",
        "colab": {}
      },
      "source": [
        "#Stop Words and Lemmatization   \n",
        "lemmatizer = WordNetLemmatizer()\n",
        "stopw = nltk.corpus.stopwords.words('english')\n",
        "punct = string.punctuation\n",
        "punct = word_tokenize(punct)\n",
        "punct += ['.','``','...','\\'s','--','-','n\\'t','\\'']\n",
        "stopw += punct\n",
        "def token_stop(text):\n",
        "    global stopw\n",
        "    global lemmatizer\n",
        "    words = word_tokenize(text)\n",
        "    filtered = [lemmatizer.lemmatize(w) for w in words if not w in stopw]\n",
        "    return filtered\n",
        "  \n",
        "X_train['text'] = X_train['text'].map(lambda x: [token_stop(i) for i in x]).map(lambda x: [i for sl in x for i in sl])\n",
        "X_test['text'] = X_test['text'].map(lambda x: [token_stop(i) for i in x]).map(lambda x: [i for sl in x for i in sl])"
      ],
      "execution_count": 0,
      "outputs": []
    },
    {
      "cell_type": "code",
      "metadata": {
        "id": "fHKBz-DG8HTu",
        "colab_type": "code",
        "colab": {}
      },
      "source": [
        "texts = np.array(X_train['text'])\n",
        "test_text = np.array(X_test['text'])"
      ],
      "execution_count": 0,
      "outputs": []
    },
    {
      "cell_type": "code",
      "metadata": {
        "id": "sLe602IIEqV6",
        "colab_type": "code",
        "outputId": "5fe597fe-4b4a-413e-b081-69b6e3fff13d",
        "colab": {
          "base_uri": "https://localhost:8080/",
          "height": 35
        }
      },
      "source": [
        "#Choose max sequence length with optimal sequence length based on box plot\n",
        "#Load glove model embeddings corresponding to best dimensions from hyperparameter tuning\n",
        "MAX_SEQUENCE_LENGTH = 1000\n",
        "MAX_NB_WORDS = 20000\n",
        "VALIDATION_SPLIT = 0.2\n",
        "embeddings_index = {}\n",
        "with open('glove.6B.'+str(EMBEDDING_DIM)+'d.txt') as f:\n",
        "    for line in f:\n",
        "        word, coefs = line.split(maxsplit=1)\n",
        "        coefs = np.fromstring(coefs, 'f', sep=' ')\n",
        "        embeddings_index[word] = coefs\n",
        "\n",
        "print('Found %s word vectors.' % len(embeddings_index))"
      ],
      "execution_count": 15,
      "outputs": [
        {
          "output_type": "stream",
          "text": [
            "Found 400000 word vectors.\n"
          ],
          "name": "stdout"
        }
      ]
    },
    {
      "cell_type": "code",
      "metadata": {
        "id": "9thZOjdY_Sl6",
        "colab_type": "code",
        "outputId": "453f5197-f150-4ec5-b189-e2a30f9b1886",
        "colab": {
          "base_uri": "https://localhost:8080/",
          "height": 124
        }
      },
      "source": [
        "#Create data with tokenizer word_index. Neglect words which are not in word_index\n",
        "tokenizer = Tokenizer(nb_words=MAX_NB_WORDS)\n",
        "tokenizer.fit_on_texts(texts)\n",
        "sequences = tokenizer.texts_to_sequences(texts)\n",
        "\n",
        "word_index = tokenizer.word_index\n",
        "print('Found %s unique tokens.' % len(word_index))\n",
        "\n",
        "data = pad_sequences(sequences, maxlen=MAX_SEQUENCE_LENGTH)\n",
        "\n",
        "labels = to_categorical(np.asarray(y_train))\n",
        "print('Shape of data tensor:', data.shape)\n",
        "print('Shape of label tensor:', labels.shape)\n",
        "\n",
        "#Split training and validation data with 20% split. So final is training 64%, validation 16% and test 20% of whole data\n",
        "indices = np.arange(data.shape[0])\n",
        "np.random.shuffle(indices)\n",
        "data = data[indices]\n",
        "labels = labels[indices]\n",
        "nb_validation_samples = int(VALIDATION_SPLIT * data.shape[0])\n",
        "\n",
        "xtrain = data[:-nb_validation_samples]\n",
        "ytrain = labels[:-nb_validation_samples]\n",
        "xval = data[-nb_validation_samples:]\n",
        "yval = labels[-nb_validation_samples:]"
      ],
      "execution_count": 16,
      "outputs": [
        {
          "output_type": "stream",
          "text": [
            "/usr/local/lib/python3.6/dist-packages/keras_preprocessing/text.py:178: UserWarning: The `nb_words` argument in `Tokenizer` has been renamed `num_words`.\n",
            "  warnings.warn('The `nb_words` argument in `Tokenizer` '\n"
          ],
          "name": "stderr"
        },
        {
          "output_type": "stream",
          "text": [
            "Found 179962 unique tokens.\n",
            "Shape of data tensor: (11314, 1000)\n",
            "Shape of label tensor: (11314, 20)\n"
          ],
          "name": "stdout"
        }
      ]
    },
    {
      "cell_type": "code",
      "metadata": {
        "id": "VofHdiAqIRqc",
        "colab_type": "code",
        "colab": {}
      },
      "source": [
        "#Create glove embedding matrix\n",
        "embedding_matrix = np.zeros((len(word_index) + 1, EMBEDDING_DIM))\n",
        "for word, i in word_index.items():\n",
        "    embedding_vector = embeddings_index.get(word)\n",
        "    if embedding_vector is not None:\n",
        "        # words not found in embedding index will be all-zeros.\n",
        "        embedding_matrix[i] = embedding_vector"
      ],
      "execution_count": 0,
      "outputs": []
    },
    {
      "cell_type": "code",
      "metadata": {
        "id": "o3yooq2DI-dT",
        "colab_type": "code",
        "colab": {}
      },
      "source": [
        "#Keras Glove Embedding layer\n",
        "embedding_layer = Embedding(len(word_index) + 1,\n",
        "                            EMBEDDING_DIM,\n",
        "                            weights=[embedding_matrix],\n",
        "                            input_length=MAX_SEQUENCE_LENGTH,\n",
        "                            trainable=traina)"
      ],
      "execution_count": 0,
      "outputs": []
    },
    {
      "cell_type": "code",
      "metadata": {
        "id": "iuZyVOsKKD6T",
        "colab_type": "code",
        "outputId": "f034d2fc-233d-4bab-e458-a84792410f80",
        "colab": {
          "base_uri": "https://localhost:8080/",
          "height": 363
        }
      },
      "source": [
        "#Map label name to its index\n",
        "labels_index = {}\n",
        "for i in range(len(test_data.target_names)):\n",
        "  labels_index[test_data.target_names[i]] = i\n",
        "\n",
        "labels_index"
      ],
      "execution_count": 19,
      "outputs": [
        {
          "output_type": "execute_result",
          "data": {
            "text/plain": [
              "{'alt.atheism': 0,\n",
              " 'comp.graphics': 1,\n",
              " 'comp.os.ms-windows.misc': 2,\n",
              " 'comp.sys.ibm.pc.hardware': 3,\n",
              " 'comp.sys.mac.hardware': 4,\n",
              " 'comp.windows.x': 5,\n",
              " 'misc.forsale': 6,\n",
              " 'rec.autos': 7,\n",
              " 'rec.motorcycles': 8,\n",
              " 'rec.sport.baseball': 9,\n",
              " 'rec.sport.hockey': 10,\n",
              " 'sci.crypt': 11,\n",
              " 'sci.electronics': 12,\n",
              " 'sci.med': 13,\n",
              " 'sci.space': 14,\n",
              " 'soc.religion.christian': 15,\n",
              " 'talk.politics.guns': 16,\n",
              " 'talk.politics.mideast': 17,\n",
              " 'talk.politics.misc': 18,\n",
              " 'talk.religion.misc': 19}"
            ]
          },
          "metadata": {
            "tags": []
          },
          "execution_count": 19
        }
      ]
    },
    {
      "cell_type": "markdown",
      "metadata": {
        "id": "e18TBVrC9iwT",
        "colab_type": "text"
      },
      "source": [
        "## Train Model"
      ]
    },
    {
      "cell_type": "markdown",
      "metadata": {
        "id": "p9D32NrbEPsU",
        "colab_type": "text"
      },
      "source": [
        "# RNN"
      ]
    },
    {
      "cell_type": "code",
      "metadata": {
        "id": "NjPmDH75ERKA",
        "colab_type": "code",
        "colab": {
          "base_uri": "https://localhost:8080/",
          "height": 141
        },
        "outputId": "07b1ad00-ad47-4d1f-ca23-ada823f257dd"
      },
      "source": [
        "#Model Architecture\n",
        "sequence_input = Input(shape=(MAX_SEQUENCE_LENGTH,), dtype='int32')\n",
        "embedded_sequences = embedding_layer(sequence_input)\n",
        "if bidirectional:\n",
        "  x = Bidirectional(LSTM(100,dropout=dropout))(embedded_sequences)\n",
        "else:\n",
        "  x = LSTM(100,dropout=dropout)(embedded_sequences)\n",
        "preds = Dense(len(labels_index), activation='softmax')(x)\n",
        "lstm_model = Model(sequence_input, preds)\n",
        "lstm_model.compile(loss='categorical_crossentropy',\n",
        "              optimizer='rmsprop',\n",
        "              metrics=['acc'])"
      ],
      "execution_count": 20,
      "outputs": [
        {
          "output_type": "stream",
          "text": [
            "WARNING:tensorflow:From /usr/local/lib/python3.6/dist-packages/tensorflow/python/framework/op_def_library.py:263: colocate_with (from tensorflow.python.framework.ops) is deprecated and will be removed in a future version.\n",
            "Instructions for updating:\n",
            "Colocations handled automatically by placer.\n",
            "WARNING:tensorflow:From /usr/local/lib/python3.6/dist-packages/keras/backend/tensorflow_backend.py:3445: calling dropout (from tensorflow.python.ops.nn_ops) with keep_prob is deprecated and will be removed in a future version.\n",
            "Instructions for updating:\n",
            "Please use `rate` instead of `keep_prob`. Rate should be set to `rate = 1 - keep_prob`.\n"
          ],
          "name": "stdout"
        }
      ]
    },
    {
      "cell_type": "code",
      "metadata": {
        "id": "dnLCsXllMNzi",
        "colab_type": "code",
        "outputId": "a8f26c89-90a1-4960-d0a0-863663a76350",
        "colab": {
          "base_uri": "https://localhost:8080/",
          "height": 276
        }
      },
      "source": [
        "lstm_model.summary()"
      ],
      "execution_count": 21,
      "outputs": [
        {
          "output_type": "stream",
          "text": [
            "_________________________________________________________________\n",
            "Layer (type)                 Output Shape              Param #   \n",
            "=================================================================\n",
            "input_1 (InputLayer)         (None, 1000)              0         \n",
            "_________________________________________________________________\n",
            "embedding_1 (Embedding)      (None, 1000, 200)         35992600  \n",
            "_________________________________________________________________\n",
            "lstm_1 (LSTM)                (None, 100)               120400    \n",
            "_________________________________________________________________\n",
            "dense_1 (Dense)              (None, 20)                2020      \n",
            "=================================================================\n",
            "Total params: 36,115,020\n",
            "Trainable params: 36,115,020\n",
            "Non-trainable params: 0\n",
            "_________________________________________________________________\n"
          ],
          "name": "stdout"
        }
      ]
    },
    {
      "cell_type": "code",
      "metadata": {
        "id": "bbb9RTErE4wz",
        "colab_type": "code",
        "colab": {}
      },
      "source": [
        "#Callbacks - checkpointer, early stopping and tensorboard\n",
        "model_name = \"RNN-\"+'d2-'+str(dropout)+\"-\"+str(EMBEDDING_DIM)+\"-Trainable-\"+str(traina)+\"-bidrect-\"+str(bidirectional)\n",
        "checkpointer = ModelCheckpoint(model_name + \"_weights.{epoch:02d}-{val_loss:.2f}.hdf5\", monitor=\"val_loss\", verbose=1,\n",
        "                               save_best_only=True, mode='min')\n",
        "early_stopping = EarlyStopping(monitor='val_loss', min_delta=0, patience=10, verbose=1, mode='auto')\n",
        "tensorboard_rnn = TensorBoard(log_dir='./Graph_RNN', histogram_freq=0,write_graph=True, write_images=True)"
      ],
      "execution_count": 0,
      "outputs": []
    },
    {
      "cell_type": "code",
      "metadata": {
        "id": "U9x73pzTEzaO",
        "colab_type": "code",
        "outputId": "76b5340b-2700-4111-a700-2bf53f498152",
        "colab": {
          "base_uri": "https://localhost:8080/",
          "height": 2280
        }
      },
      "source": [
        "#Train Model\n",
        "stmillis = int(round(time.time() * 1000))\n",
        "history = lstm_model.fit(xtrain, ytrain, validation_data=(xval, yval),\n",
        "          epochs=50, batch_size=128, callbacks=[checkpointer, early_stopping])\n",
        "endmillis = int(round(time.time() * 1000))\n",
        "print(\"Time taken: \", endmillis - stmillis)"
      ],
      "execution_count": 25,
      "outputs": [
        {
          "output_type": "stream",
          "text": [
            "Train on 9052 samples, validate on 2262 samples\n",
            "Epoch 1/50\n",
            "9052/9052 [==============================] - 114s 13ms/step - loss: 1.5282 - acc: 0.4991 - val_loss: 1.3511 - val_acc: 0.5407\n",
            "\n",
            "Epoch 00001: val_loss improved from inf to 1.35108, saving model to RNN-d2-0.3-200-Trainable-True-bidrect-False_weights.01-1.35.hdf5\n",
            "Epoch 2/50\n",
            "9052/9052 [==============================] - 115s 13ms/step - loss: 1.2950 - acc: 0.5742 - val_loss: 1.1811 - val_acc: 0.6101\n",
            "\n",
            "Epoch 00002: val_loss improved from 1.35108 to 1.18114, saving model to RNN-d2-0.3-200-Trainable-True-bidrect-False_weights.02-1.18.hdf5\n",
            "Epoch 3/50\n",
            "9052/9052 [==============================] - 114s 13ms/step - loss: 1.1491 - acc: 0.6154 - val_loss: 1.1117 - val_acc: 0.6269\n",
            "\n",
            "Epoch 00003: val_loss improved from 1.18114 to 1.11166, saving model to RNN-d2-0.3-200-Trainable-True-bidrect-False_weights.03-1.11.hdf5\n",
            "Epoch 4/50\n",
            "9052/9052 [==============================] - 115s 13ms/step - loss: 0.9755 - acc: 0.6711 - val_loss: 0.9840 - val_acc: 0.6773\n",
            "\n",
            "Epoch 00004: val_loss improved from 1.11166 to 0.98404, saving model to RNN-d2-0.3-200-Trainable-True-bidrect-False_weights.04-0.98.hdf5\n",
            "Epoch 5/50\n",
            "9052/9052 [==============================] - 113s 12ms/step - loss: 0.8399 - acc: 0.7193 - val_loss: 0.8386 - val_acc: 0.7113\n",
            "\n",
            "Epoch 00005: val_loss improved from 0.98404 to 0.83860, saving model to RNN-d2-0.3-200-Trainable-True-bidrect-False_weights.05-0.84.hdf5\n",
            "Epoch 6/50\n",
            "9052/9052 [==============================] - 115s 13ms/step - loss: 0.7331 - acc: 0.7646 - val_loss: 0.7125 - val_acc: 0.7683\n",
            "\n",
            "Epoch 00006: val_loss improved from 0.83860 to 0.71251, saving model to RNN-d2-0.3-200-Trainable-True-bidrect-False_weights.06-0.71.hdf5\n",
            "Epoch 7/50\n",
            "9052/9052 [==============================] - 114s 13ms/step - loss: 0.6309 - acc: 0.7972 - val_loss: 0.7130 - val_acc: 0.7613\n",
            "\n",
            "Epoch 00007: val_loss did not improve from 0.71251\n",
            "Epoch 8/50\n",
            "9052/9052 [==============================] - 114s 13ms/step - loss: 0.5488 - acc: 0.8279 - val_loss: 0.6255 - val_acc: 0.8037\n",
            "\n",
            "Epoch 00008: val_loss improved from 0.71251 to 0.62550, saving model to RNN-d2-0.3-200-Trainable-True-bidrect-False_weights.08-0.63.hdf5\n",
            "Epoch 9/50\n",
            "9052/9052 [==============================] - 116s 13ms/step - loss: 0.4664 - acc: 0.8519 - val_loss: 0.5819 - val_acc: 0.8210\n",
            "\n",
            "Epoch 00009: val_loss improved from 0.62550 to 0.58187, saving model to RNN-d2-0.3-200-Trainable-True-bidrect-False_weights.09-0.58.hdf5\n",
            "Epoch 10/50\n",
            "9052/9052 [==============================] - 113s 13ms/step - loss: 0.3865 - acc: 0.8816 - val_loss: 0.5862 - val_acc: 0.8196\n",
            "\n",
            "Epoch 00010: val_loss did not improve from 0.58187\n",
            "Epoch 11/50\n",
            "9052/9052 [==============================] - 114s 13ms/step - loss: 0.3352 - acc: 0.8975 - val_loss: 0.5449 - val_acc: 0.8475\n",
            "\n",
            "Epoch 00011: val_loss improved from 0.58187 to 0.54494, saving model to RNN-d2-0.3-200-Trainable-True-bidrect-False_weights.11-0.54.hdf5\n",
            "Epoch 12/50\n",
            "9052/9052 [==============================] - 116s 13ms/step - loss: 0.2821 - acc: 0.9167 - val_loss: 0.5006 - val_acc: 0.8643\n",
            "\n",
            "Epoch 00012: val_loss improved from 0.54494 to 0.50059, saving model to RNN-d2-0.3-200-Trainable-True-bidrect-False_weights.12-0.50.hdf5\n",
            "Epoch 13/50\n",
            "9052/9052 [==============================] - 114s 13ms/step - loss: 0.2341 - acc: 0.9293 - val_loss: 0.4714 - val_acc: 0.8647\n",
            "\n",
            "Epoch 00013: val_loss improved from 0.50059 to 0.47145, saving model to RNN-d2-0.3-200-Trainable-True-bidrect-False_weights.13-0.47.hdf5\n",
            "Epoch 14/50\n",
            "9052/9052 [==============================] - 116s 13ms/step - loss: 0.1936 - acc: 0.9434 - val_loss: 0.5479 - val_acc: 0.8457\n",
            "\n",
            "Epoch 00014: val_loss did not improve from 0.47145\n",
            "Epoch 15/50\n",
            "9052/9052 [==============================] - 114s 13ms/step - loss: 0.1699 - acc: 0.9507 - val_loss: 0.4339 - val_acc: 0.8767\n",
            "\n",
            "Epoch 00015: val_loss improved from 0.47145 to 0.43385, saving model to RNN-d2-0.3-200-Trainable-True-bidrect-False_weights.15-0.43.hdf5\n",
            "Epoch 16/50\n",
            "9052/9052 [==============================] - 115s 13ms/step - loss: 0.1365 - acc: 0.9608 - val_loss: 0.4375 - val_acc: 0.8767\n",
            "\n",
            "Epoch 00016: val_loss did not improve from 0.43385\n",
            "Epoch 17/50\n",
            "9052/9052 [==============================] - 115s 13ms/step - loss: 0.1234 - acc: 0.9634 - val_loss: 0.4646 - val_acc: 0.8767\n",
            "\n",
            "Epoch 00017: val_loss did not improve from 0.43385\n",
            "Epoch 18/50\n",
            "9052/9052 [==============================] - 113s 13ms/step - loss: 0.1006 - acc: 0.9696 - val_loss: 0.4421 - val_acc: 0.8815\n",
            "\n",
            "Epoch 00018: val_loss did not improve from 0.43385\n",
            "Epoch 19/50\n",
            "9052/9052 [==============================] - 115s 13ms/step - loss: 0.0872 - acc: 0.9753 - val_loss: 0.4157 - val_acc: 0.8908\n",
            "\n",
            "Epoch 00019: val_loss improved from 0.43385 to 0.41567, saving model to RNN-d2-0.3-200-Trainable-True-bidrect-False_weights.19-0.42.hdf5\n",
            "Epoch 20/50\n",
            "9052/9052 [==============================] - 114s 13ms/step - loss: 0.0684 - acc: 0.9822 - val_loss: 0.4111 - val_acc: 0.8988\n",
            "\n",
            "Epoch 00020: val_loss improved from 0.41567 to 0.41107, saving model to RNN-d2-0.3-200-Trainable-True-bidrect-False_weights.20-0.41.hdf5\n",
            "Epoch 21/50\n",
            "9052/9052 [==============================] - 115s 13ms/step - loss: 0.0545 - acc: 0.9861 - val_loss: 0.4325 - val_acc: 0.8943\n",
            "\n",
            "Epoch 00021: val_loss did not improve from 0.41107\n",
            "Epoch 22/50\n",
            "9052/9052 [==============================] - 114s 13ms/step - loss: 0.0499 - acc: 0.9852 - val_loss: 0.4051 - val_acc: 0.8983\n",
            "\n",
            "Epoch 00022: val_loss improved from 0.41107 to 0.40511, saving model to RNN-d2-0.3-200-Trainable-True-bidrect-False_weights.22-0.41.hdf5\n",
            "Epoch 23/50\n",
            "9052/9052 [==============================] - 116s 13ms/step - loss: 0.0424 - acc: 0.9887 - val_loss: 0.4590 - val_acc: 0.8957\n",
            "\n",
            "Epoch 00023: val_loss did not improve from 0.40511\n",
            "Epoch 24/50\n",
            "9052/9052 [==============================] - 114s 13ms/step - loss: 0.0335 - acc: 0.9901 - val_loss: 0.4529 - val_acc: 0.9010\n",
            "\n",
            "Epoch 00024: val_loss did not improve from 0.40511\n",
            "Epoch 25/50\n",
            "9052/9052 [==============================] - 115s 13ms/step - loss: 0.0312 - acc: 0.9925 - val_loss: 0.4516 - val_acc: 0.9019\n",
            "\n",
            "Epoch 00025: val_loss did not improve from 0.40511\n",
            "Epoch 26/50\n",
            "9052/9052 [==============================] - 114s 13ms/step - loss: 0.0233 - acc: 0.9940 - val_loss: 0.4532 - val_acc: 0.9010\n",
            "\n",
            "Epoch 00026: val_loss did not improve from 0.40511\n",
            "Epoch 27/50\n",
            "9052/9052 [==============================] - 114s 13ms/step - loss: 0.0229 - acc: 0.9939 - val_loss: 0.4406 - val_acc: 0.9023\n",
            "\n",
            "Epoch 00027: val_loss did not improve from 0.40511\n",
            "Epoch 28/50\n",
            "9052/9052 [==============================] - 116s 13ms/step - loss: 0.0153 - acc: 0.9964 - val_loss: 0.4505 - val_acc: 0.9036\n",
            "\n",
            "Epoch 00028: val_loss did not improve from 0.40511\n",
            "Epoch 29/50\n",
            "9052/9052 [==============================] - 113s 12ms/step - loss: 0.0206 - acc: 0.9947 - val_loss: 0.4543 - val_acc: 0.9036\n",
            "\n",
            "Epoch 00029: val_loss did not improve from 0.40511\n",
            "Epoch 30/50\n",
            "9052/9052 [==============================] - 116s 13ms/step - loss: 0.0178 - acc: 0.9947 - val_loss: 0.4188 - val_acc: 0.9089\n",
            "\n",
            "Epoch 00030: val_loss did not improve from 0.40511\n",
            "Epoch 31/50\n",
            "9052/9052 [==============================] - 115s 13ms/step - loss: 0.0145 - acc: 0.9968 - val_loss: 0.4442 - val_acc: 0.9063\n",
            "\n",
            "Epoch 00031: val_loss did not improve from 0.40511\n",
            "Epoch 32/50\n",
            "9052/9052 [==============================] - 114s 13ms/step - loss: 0.0126 - acc: 0.9972 - val_loss: 0.5085 - val_acc: 0.8948\n",
            "\n",
            "Epoch 00032: val_loss did not improve from 0.40511\n",
            "Epoch 00032: early stopping\n",
            "Time taken:  3673327\n"
          ],
          "name": "stdout"
        }
      ]
    },
    {
      "cell_type": "code",
      "metadata": {
        "id": "vl8sxWfCEvhn",
        "colab_type": "code",
        "outputId": "ec51e27b-7183-4f5d-e2ec-71f84becc0d4",
        "colab": {
          "base_uri": "https://localhost:8080/",
          "height": 303
        }
      },
      "source": [
        "#Plot loss curve\n",
        "fig=plt.figure()\n",
        "plt.plot(history.history['loss'],'r',linewidth=3.0)\n",
        "plt.plot(history.history['val_loss'],'b',linewidth=3.0)\n",
        "plt.legend(['Training Loss', 'Validation Loss'],fontsize=18)\n",
        "plt.xlabel('Epochs ',fontsize=16)\n",
        "plt.ylabel('Loss',fontsize=16)\n",
        "plt.title('Loss Curves : RNN',fontsize=16)\n",
        "fig.savefig(model_name+'.png')\n",
        "plt.show()"
      ],
      "execution_count": 26,
      "outputs": [
        {
          "output_type": "display_data",
          "data": {
            "image/png": "[encoded data removed]",
            "text/plain": [
              "<Figure size 432x288 with 1 Axes>"
            ]
          },
          "metadata": {
            "tags": []
          }
        }
      ]
    },
    {
      "cell_type": "code",
      "metadata": {
        "id": "EaQ1v9TV-NBt",
        "colab_type": "code",
        "outputId": "365f793c-9410-4d34-8a7e-7d5558adb386",
        "colab": {
          "base_uri": "https://localhost:8080/",
          "height": 303
        }
      },
      "source": [
        "#Plot accuracy curve\n",
        "fig=plt.figure()\n",
        "plt.plot(history.history['acc'],'r',linewidth=3.0)\n",
        "plt.plot(history.history['val_acc'],'b',linewidth=3.0)\n",
        "plt.legend(['Training Accuracy', 'Validation Accuracy'],fontsize=18)\n",
        "plt.xlabel('Epochs ',fontsize=16)\n",
        "plt.ylabel('Accuracy',fontsize=16)\n",
        "plt.title('Accuracy Curves : RNN',fontsize=16)\n",
        "fig.savefig(model_name+'-ACC'+'.png')\n",
        "plt.show()"
      ],
      "execution_count": 27,
      "outputs": [
        {
          "output_type": "display_data",
          "data": {
            "image/png": "[encoded data removed]",
            "text/plain": [
              "<Figure size 432x288 with 1 Axes>"
            ]
          },
          "metadata": {
            "tags": []
          }
        }
      ]
    },
    {
      "cell_type": "code",
      "metadata": {
        "id": "vx9W_tXbl74S",
        "colab_type": "code",
        "outputId": "6861cf39-fe72-4a72-a5e7-8c6b530be34e",
        "colab": {
          "base_uri": "https://localhost:8080/",
          "height": 35
        }
      },
      "source": [
        "model_name"
      ],
      "execution_count": 28,
      "outputs": [
        {
          "output_type": "execute_result",
          "data": {
            "text/plain": [
              "'RNN-d2-0.3-200-Trainable-True-bidrect-False'"
            ]
          },
          "metadata": {
            "tags": []
          },
          "execution_count": 28
        }
      ]
    },
    {
      "cell_type": "code",
      "metadata": {
        "id": "VbE3Cy1LFJhy",
        "colab_type": "code",
        "colab": {}
      },
      "source": [
        "# Save the trained weights\n",
        "lstm_model.save(model_name + \".h5\")\n",
        "\n",
        "# Save model config as json\n",
        "model_json = lstm_model.to_json()\n",
        "with open(model_name + \".json\", \"w\") as json_file:\n",
        "    json_file.write(model_json)\n",
        "\n",
        "# Persist the model to your google drive [VERY IMPORTANT]\n",
        "!cp RNN* gdrive/My\\ Drive/"
      ],
      "execution_count": 0,
      "outputs": []
    },
    {
      "cell_type": "markdown",
      "metadata": {
        "id": "7BAwr4x19nMo",
        "colab_type": "text"
      },
      "source": [
        "## Predict on Test Data"
      ]
    },
    {
      "cell_type": "code",
      "metadata": {
        "id": "vIBlzM5zFVhG",
        "colab_type": "code",
        "colab": {}
      },
      "source": [
        "def find_test_acc(prediction):\n",
        "  count = 0\n",
        "  t = 0\n",
        "  for pred in prediction:\n",
        "    p = pred.argmax()\n",
        "    #name = le.inverse_transform([p])\n",
        "    if p == y_test[count]:\n",
        "      t+=1\n",
        "    count+=1\n",
        "  print('Test Accuracy:',(t/count)*100,\"%\")"
      ],
      "execution_count": 0,
      "outputs": []
    },
    {
      "cell_type": "code",
      "metadata": {
        "id": "1sM8QeKfJgRr",
        "colab_type": "code",
        "colab": {}
      },
      "source": [
        "def predict_test(model):\n",
        "  #Tokenize test data and apply model prediction\n",
        "  sequences = tokenizer.texts_to_sequences(test_text)\n",
        "  data = pad_sequences(sequences, maxlen=MAX_SEQUENCE_LENGTH)\n",
        "\n",
        "  print('Shape of data tensor:', data.shape)\n",
        "  print('Shape of label tensor:', labels.shape)\n",
        "  prediction = model.predict(data)\n",
        "  find_test_acc(prediction)"
      ],
      "execution_count": 0,
      "outputs": []
    },
    {
      "cell_type": "code",
      "metadata": {
        "id": "rQkRiGcJJ3pm",
        "colab_type": "code",
        "colab": {}
      },
      "source": [
        "!cp gdrive/My\\ Drive/RNN-d2-0.3-200-Trainable-True-bidrect-False_weights.22-0.41.hdf5 .\n",
        "!cp gdrive/My\\ Drive/RNN-d2-0.3-200-Trainable-True-bidrect-False.json ."
      ],
      "execution_count": 0,
      "outputs": []
    },
    {
      "cell_type": "code",
      "metadata": {
        "id": "PXduhH-i9bpW",
        "colab_type": "code",
        "colab": {}
      },
      "source": [
        "#Load the weights of the model which had the best validation loss\n",
        "model_filename = 'RNN-d2-0.3-200-Trainable-True-bidrect-False_weights.22-0.41.hdf5'"
      ],
      "execution_count": 0,
      "outputs": []
    },
    {
      "cell_type": "code",
      "metadata": {
        "id": "4zzvWY-b9jqe",
        "colab_type": "code",
        "colab": {}
      },
      "source": [
        "sequence_input = Input(shape=(MAX_SEQUENCE_LENGTH,), dtype='int32')\n",
        "embedded_sequences = embedding_layer(sequence_input)\n",
        "if bidirectional:\n",
        "  x = Bidirectional(LSTM(100,dropout=dropout))(embedded_sequences)\n",
        "else:\n",
        "  x = LSTM(100,dropout=dropout)(embedded_sequences)\n",
        "preds = Dense(len(labels_index), activation='softmax')(x)\n",
        "best_model = Model(sequence_input, preds)\n",
        "\n",
        "best_model.load_weights(model_filename)\n",
        "\n",
        "best_model.compile(loss='categorical_crossentropy',\n",
        "              optimizer='rmsprop',\n",
        "              metrics=['acc'])"
      ],
      "execution_count": 0,
      "outputs": []
    },
    {
      "cell_type": "code",
      "metadata": {
        "id": "TGJNaYw_-DBB",
        "colab_type": "code",
        "outputId": "bb8c0e82-ba75-4ad3-bb33-dd1c9be7cee4",
        "colab": {
          "base_uri": "https://localhost:8080/",
          "height": 69
        }
      },
      "source": [
        "\n",
        "#Final test accuracy on the best model\n",
        "predict_test(best_model)"
      ],
      "execution_count": 35,
      "outputs": [
        {
          "output_type": "stream",
          "text": [
            "Shape of data tensor: (7532, 1000)\n",
            "Shape of label tensor: (11314, 20)\n",
            "Test Accuracy: 82.63409453000531 %\n"
          ],
          "name": "stdout"
        }
      ]
    },
    {
      "cell_type": "markdown",
      "metadata": {
        "id": "R55FX-Xq3XkP",
        "colab_type": "text"
      },
      "source": [
        "## Tensorboard"
      ]
    },
    {
      "cell_type": "code",
      "metadata": {
        "id": "Bz0qLhb1Gi2s",
        "colab_type": "code",
        "outputId": "f5f8f06b-21eb-444b-af82-1b281c3411f5",
        "colab": {
          "base_uri": "https://localhost:8080/",
          "height": 238
        }
      },
      "source": [
        "!wget https://bin.equinox.io/c/4VmDzA7iaHb/ngrok-stable-linux-amd64.zip\n",
        "!unzip ngrok-stable-linux-amd64.zip"
      ],
      "execution_count": 0,
      "outputs": [
        {
          "output_type": "stream",
          "text": [
            "--2019-05-03 00:53:38--  https://bin.equinox.io/c/4VmDzA7iaHb/ngrok-stable-linux-amd64.zip\n",
            "Resolving bin.equinox.io (bin.equinox.io)... 34.232.181.106, 52.204.188.97, 34.206.253.53, ...\n",
            "Connecting to bin.equinox.io (bin.equinox.io)|34.232.181.106|:443... connected.\n",
            "HTTP request sent, awaiting response... 200 OK\n",
            "Length: 14991793 (14M) [application/octet-stream]\n",
            "Saving to: ‘ngrok-stable-linux-amd64.zip’\n",
            "\n",
            "ngrok-stable-linux- 100%[===================>]  14.30M  41.3MB/s    in 0.3s    \n",
            "\n",
            "2019-05-03 00:53:38 (41.3 MB/s) - ‘ngrok-stable-linux-amd64.zip’ saved [14991793/14991793]\n",
            "\n",
            "Archive:  ngrok-stable-linux-amd64.zip\n",
            "  inflating: ngrok                   \n"
          ],
          "name": "stdout"
        }
      ]
    },
    {
      "cell_type": "code",
      "metadata": {
        "id": "2VIBupfd29Rk",
        "colab_type": "code",
        "outputId": "8c7aee16-78fe-4ac3-f97f-1ac3b810dbc8",
        "colab": {
          "base_uri": "https://localhost:8080/",
          "height": 34
        }
      },
      "source": [
        "LOG_DIR = './Graph_RNN'\n",
        "get_ipython().system_raw(\n",
        "    'tensorboard --logdir {} --host 0.0.0.0 --port 6006 &'\n",
        "    .format(LOG_DIR)\n",
        ")\n",
        "get_ipython().system_raw('./ngrok http 6006 &')\n",
        "! curl -s http://localhost:4040/api/tunnels | python3 -c \\\n",
        "    \"import sys, json; print(json.load(sys.stdin)['tunnels'][0]['public_url'])\""
      ],
      "execution_count": 0,
      "outputs": [
        {
          "output_type": "stream",
          "text": [
            "https://c950e1ba.ngrok.io\n"
          ],
          "name": "stdout"
        }
      ]
    },
    {
      "cell_type": "code",
      "metadata": {
        "id": "LLQ1HxvyLuV2",
        "colab_type": "code",
        "colab": {}
      },
      "source": [
        "!cp -r Graph_RNN gdrive/My\\ Drive/"
      ],
      "execution_count": 0,
      "outputs": []
    },
    {
      "cell_type": "code",
      "metadata": {
        "id": "Dy53lot4-cX8",
        "colab_type": "code",
        "colab": {}
      },
      "source": [
        "from keras.utils.vis_utils import plot_model\n",
        "plot_model(best_model, to_file='rnn_model.png', show_shapes=True, show_layer_names=True)\n"
      ],
      "execution_count": 0,
      "outputs": []
    },
    {
      "cell_type": "code",
      "metadata": {
        "id": "VCd7vKKU_RMV",
        "colab_type": "code",
        "outputId": "5e52a361-f20a-4b03-eabc-e1dc61969e37",
        "colab": {
          "base_uri": "https://localhost:8080/",
          "height": 422
        }
      },
      "source": [
        "from PIL import Image\n",
        "display(Image.open('rnn_model.png'))"
      ],
      "execution_count": 0,
      "outputs": [
        {
          "output_type": "display_data",
          "data": {
            "image/png": "[encoded data removed]",
            "text/plain": [
              "<PIL.PngImagePlugin.PngImageFile image mode=RGBA size=483x405 at 0x7FE19D9AC2B0>"
            ]
          },
          "metadata": {
            "tags": []
          }
        }
      ]
    },
    {
      "cell_type": "code",
      "metadata": {
        "id": "s4Jr-jfm_Rok",
        "colab_type": "code",
        "colab": {}
      },
      "source": [
        ""
      ],
      "execution_count": 0,
      "outputs": []
    }
  ]
}
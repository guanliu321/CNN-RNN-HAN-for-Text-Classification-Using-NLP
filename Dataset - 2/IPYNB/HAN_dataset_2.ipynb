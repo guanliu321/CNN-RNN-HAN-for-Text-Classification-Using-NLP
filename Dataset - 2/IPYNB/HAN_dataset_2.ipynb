{
  "nbformat": 4,
  "nbformat_minor": 0,
  "metadata": {
    "colab": {
      "name": "HAN_dataset_2.ipynb",
      "version": "0.3.2",
      "provenance": [],
      "collapsed_sections": [],
      "include_colab_link": true
    },
    "kernelspec": {
      "name": "python3",
      "display_name": "Python 3"
    },
    "accelerator": "GPU"
  },
  "cells": [
    {
      "cell_type": "markdown",
      "metadata": {
        "id": "view-in-github",
        "colab_type": "text"
      },
      "source": [
        "<a href=\"https://colab.research.google.com/github/rachit-shah/adbi-project/blob/master/HAN_dataset_2.ipynb\" target=\"_parent\"><img src=\"https://colab.research.google.com/assets/colab-badge.svg\" alt=\"Open In Colab\"/></a>"
      ]
    },
    {
      "cell_type": "markdown",
      "metadata": {
        "id": "BToPi2JX6jzd",
        "colab_type": "text"
      },
      "source": [
        "## Load Data and Glove Model From Drive"
      ]
    },
    {
      "cell_type": "code",
      "metadata": {
        "id": "JvS3pf0t6zsk",
        "colab_type": "code",
        "outputId": "9b6f0162-d9cc-479c-c71a-4ace7b16bfd4",
        "colab": {
          "base_uri": "https://localhost:8080/",
          "height": 124
        }
      },
      "source": [
        "# Mounting google drive to access data and glove model\n",
        "from google.colab import drive\n",
        "drive.mount('/content/gdrive')"
      ],
      "execution_count": 1,
      "outputs": [
        {
          "output_type": "stream",
          "text": [
            "Go to this URL in a browser: https://accounts.google.com/o/oauth2/auth?client_id=947318989803-6bn6qk8qdgf4n4g3pfee6491hc0brc4i.apps.googleusercontent.com&redirect_uri=urn%3Aietf%3Awg%3Aoauth%3A2.0%3Aoob&scope=email%20https%3A%2F%2Fwww.googleapis.com%2Fauth%2Fdocs.test%20https%3A%2F%2Fwww.googleapis.com%2Fauth%2Fdrive%20https%3A%2F%2Fwww.googleapis.com%2Fauth%2Fdrive.photos.readonly%20https%3A%2F%2Fwww.googleapis.com%2Fauth%2Fpeopleapi.readonly&response_type=code\n",
            "\n",
            "Enter your authorization code:\n",
            "··········\n",
            "Mounted at /content/gdrive\n"
          ],
          "name": "stdout"
        }
      ]
    },
    {
      "cell_type": "code",
      "metadata": {
        "id": "e9s7l5uI7QWJ",
        "colab_type": "code",
        "outputId": "0b63b7bc-0cb4-4c76-8158-17a97fc0d9b2",
        "colab": {
          "base_uri": "https://localhost:8080/",
          "height": 829
        }
      },
      "source": [
        "#import all required packages and modules.\n",
        "import pandas as pd\n",
        "import numpy as np\n",
        "import matplotlib.pyplot as plt\n",
        "import os\n",
        "%matplotlib inline\n",
        "import nltk\n",
        "nltk.download('popular')\n",
        "\n",
        "from keras.preprocessing.text import Tokenizer,text_to_word_sequence\n",
        "from keras.preprocessing.sequence import pad_sequences\n",
        "from keras.utils import to_categorical\n",
        "from keras.layers import Dense, Input, GlobalMaxPooling1D, Dropout, LSTM, GRU, Bidirectional, SpatialDropout1D, TimeDistributed\n",
        "from keras.layers import Conv1D, MaxPooling1D, Embedding, Flatten\n",
        "from keras.callbacks import ModelCheckpoint, EarlyStopping, TensorBoard\n",
        "from keras.models import Model\n",
        "from keras.initializers import Constant\n",
        "\n",
        "from wordcloud import WordCloud\n",
        "import matplotlib.pyplot as plt\n",
        "from sklearn.feature_extraction import text \n",
        "from wordcloud import WordCloud, STOPWORDS\n",
        "\n",
        "from sklearn.preprocessing import LabelEncoder\n",
        "import pickle\n",
        "import numpy as np\n",
        "from sklearn.model_selection import train_test_split\n",
        "\n",
        "import nltk.corpus\n",
        "import string\n",
        "from nltk.tokenize import word_tokenize,sent_tokenize\n",
        "from nltk.stem import WordNetLemmatizer\n",
        "\n",
        "from keras.layers import Embedding\n",
        "\n",
        "import time\n",
        "from keras.models import model_from_json\n",
        "from sklearn.datasets import fetch_20newsgroups"
      ],
      "execution_count": 2,
      "outputs": [
        {
          "output_type": "stream",
          "text": [
            "[nltk_data] Downloading collection 'popular'\n",
            "[nltk_data]    | \n",
            "[nltk_data]    | Downloading package cmudict to /root/nltk_data...\n",
            "[nltk_data]    |   Unzipping corpora/cmudict.zip.\n",
            "[nltk_data]    | Downloading package gazetteers to /root/nltk_data...\n",
            "[nltk_data]    |   Unzipping corpora/gazetteers.zip.\n",
            "[nltk_data]    | Downloading package genesis to /root/nltk_data...\n",
            "[nltk_data]    |   Unzipping corpora/genesis.zip.\n",
            "[nltk_data]    | Downloading package gutenberg to /root/nltk_data...\n",
            "[nltk_data]    |   Unzipping corpora/gutenberg.zip.\n",
            "[nltk_data]    | Downloading package inaugural to /root/nltk_data...\n",
            "[nltk_data]    |   Unzipping corpora/inaugural.zip.\n",
            "[nltk_data]    | Downloading package movie_reviews to\n",
            "[nltk_data]    |     /root/nltk_data...\n",
            "[nltk_data]    |   Unzipping corpora/movie_reviews.zip.\n",
            "[nltk_data]    | Downloading package names to /root/nltk_data...\n",
            "[nltk_data]    |   Unzipping corpora/names.zip.\n",
            "[nltk_data]    | Downloading package shakespeare to /root/nltk_data...\n",
            "[nltk_data]    |   Unzipping corpora/shakespeare.zip.\n",
            "[nltk_data]    | Downloading package stopwords to /root/nltk_data...\n",
            "[nltk_data]    |   Unzipping corpora/stopwords.zip.\n",
            "[nltk_data]    | Downloading package treebank to /root/nltk_data...\n",
            "[nltk_data]    |   Unzipping corpora/treebank.zip.\n",
            "[nltk_data]    | Downloading package twitter_samples to\n",
            "[nltk_data]    |     /root/nltk_data...\n",
            "[nltk_data]    |   Unzipping corpora/twitter_samples.zip.\n",
            "[nltk_data]    | Downloading package omw to /root/nltk_data...\n",
            "[nltk_data]    |   Unzipping corpora/omw.zip.\n",
            "[nltk_data]    | Downloading package wordnet to /root/nltk_data...\n",
            "[nltk_data]    |   Unzipping corpora/wordnet.zip.\n",
            "[nltk_data]    | Downloading package wordnet_ic to /root/nltk_data...\n",
            "[nltk_data]    |   Unzipping corpora/wordnet_ic.zip.\n",
            "[nltk_data]    | Downloading package words to /root/nltk_data...\n",
            "[nltk_data]    |   Unzipping corpora/words.zip.\n",
            "[nltk_data]    | Downloading package maxent_ne_chunker to\n",
            "[nltk_data]    |     /root/nltk_data...\n",
            "[nltk_data]    |   Unzipping chunkers/maxent_ne_chunker.zip.\n",
            "[nltk_data]    | Downloading package punkt to /root/nltk_data...\n",
            "[nltk_data]    |   Unzipping tokenizers/punkt.zip.\n",
            "[nltk_data]    | Downloading package snowball_data to\n",
            "[nltk_data]    |     /root/nltk_data...\n",
            "[nltk_data]    | Downloading package averaged_perceptron_tagger to\n",
            "[nltk_data]    |     /root/nltk_data...\n",
            "[nltk_data]    |   Unzipping taggers/averaged_perceptron_tagger.zip.\n",
            "[nltk_data]    | \n",
            "[nltk_data]  Done downloading collection popular\n"
          ],
          "name": "stdout"
        },
        {
          "output_type": "stream",
          "text": [
            "Using TensorFlow backend.\n"
          ],
          "name": "stderr"
        }
      ]
    },
    {
      "cell_type": "code",
      "metadata": {
        "id": "z8c7Ay-J7Qwh",
        "colab_type": "code",
        "outputId": "69c81dd0-b8bb-491b-98cd-bd0dc24be227",
        "colab": {
          "base_uri": "https://localhost:8080/",
          "height": 104
        }
      },
      "source": [
        "# copying dataset and embedding from drive. Unpacking the compressed files\n",
        "#!cp gdrive/'My Drive'/bbc-fulltext.zip .\n",
        "!cp gdrive/'My Drive'/glove.6B.zip .\n",
        "#!unzip bbc-fulltext.zip > out.txt\n",
        "#!rm bbc/README.TXT\n",
        "!unzip glove.6B.zip"
      ],
      "execution_count": 3,
      "outputs": [
        {
          "output_type": "stream",
          "text": [
            "Archive:  glove.6B.zip\n",
            "  inflating: glove.6B.50d.txt        \n",
            "  inflating: glove.6B.100d.txt       \n",
            "  inflating: glove.6B.200d.txt       \n",
            "  inflating: glove.6B.300d.txt       \n"
          ],
          "name": "stdout"
        }
      ]
    },
    {
      "cell_type": "code",
      "metadata": {
        "id": "hHySPyqdR9_C",
        "colab_type": "code",
        "colab": {}
      },
      "source": [
        "# from https://stackoverflow.com/questions/32419510/how-to-get-reproducible-results-in-keras\n",
        "# Seed value\n",
        "# Apparently you may use different seed values at each stage\n",
        "seed_value= 123\n",
        "\n",
        "# 1. Set `PYTHONHASHSEED` environment variable at a fixed value\n",
        "import os\n",
        "os.environ['PYTHONHASHSEED']=str(seed_value)\n",
        "\n",
        "# 2. Set `python` built-in pseudo-random generator at a fixed value\n",
        "import random\n",
        "random.seed(seed_value)\n",
        "\n",
        "# 3. Set `numpy` pseudo-random generator at a fixed value\n",
        "import numpy as np\n",
        "np.random.seed(seed_value)\n",
        "\n",
        "\n",
        "# 4. Set `tensorflow` pseudo-random generator at a fixed value\n",
        "import tensorflow as tf\n",
        "tf.set_random_seed(seed_value)\n",
        "\n",
        "# 5. Configure a new global `tensorflow` session\n",
        "from keras import backend as K\n",
        "session_conf = tf.ConfigProto(intra_op_parallelism_threads=1, inter_op_parallelism_threads=1)\n",
        "sess = tf.Session(graph=tf.get_default_graph(), config=session_conf)\n",
        "K.set_session(sess)\n"
      ],
      "execution_count": 0,
      "outputs": []
    },
    {
      "cell_type": "code",
      "metadata": {
        "id": "Ew62XD1v790p",
        "colab_type": "code",
        "colab": {
          "base_uri": "https://localhost:8080/",
          "height": 52
        },
        "outputId": "2a06b1f7-e7db-4af0-d39e-da0010ebe681"
      },
      "source": [
        "#Read Data\n",
        "'''\n",
        "categories = ['business','entertainment','politics','sport','tech']\n",
        "df = pd.DataFrame([],columns=['category','id','text'])\n",
        "for cat in categories:\n",
        "  for file in os.listdir(\"bbc/\"+cat):\n",
        "      if file.endswith(\".txt\"):\n",
        "          filepath = os.path.join(\"bbc/\"+cat, file)\n",
        "          text = open(filepath,'r', errors='ignore').read()\n",
        "          s = pd.Series([cat,int(filepath.split('/')[-1][:-4]),text],index=['category','id','text'])\n",
        "          df = df.append(s,ignore_index=True)\n",
        "\n",
        "df.head()\n",
        "'''\n",
        "data = fetch_20newsgroups(subset='train')\n",
        "test_data = fetch_20newsgroups(subset='test')"
      ],
      "execution_count": 5,
      "outputs": [
        {
          "output_type": "stream",
          "text": [
            "Downloading 20news dataset. This may take a few minutes.\n",
            "Downloading dataset from https://ndownloader.figshare.com/files/5975967 (14 MB)\n"
          ],
          "name": "stderr"
        }
      ]
    },
    {
      "cell_type": "code",
      "metadata": {
        "id": "uZXIyNwn8tT3",
        "colab_type": "code",
        "outputId": "96791f04-9b7a-4c39-eb08-8674403a11b4",
        "colab": {
          "base_uri": "https://localhost:8080/",
          "height": 55
        }
      },
      "source": [
        "'''\n",
        "#WordCloud\n",
        "cat = df['category'].unique()\n",
        "\n",
        "for i in range(0,len(cat)):\n",
        "    words = ' '.join(df.loc[df['category']==cat[i], 'text'])\n",
        "\n",
        "    wordcloud = WordCloud( \n",
        "                          stopwords=STOPWORDS,\n",
        "                          background_color='white',\n",
        "                          width=800,\n",
        "                          height=400\n",
        "                ).generate(words)\n",
        "    print(cat[i])\n",
        "    plt.figure(figsize=(10, 5))\n",
        "    plt.imshow(wordcloud)\n",
        "    plt.axis('off')\n",
        "    plt.show()\n",
        "\n",
        "words = ' '.join(df.loc[:, 'text'])\n",
        "\n",
        "wordcloud = WordCloud( \n",
        "                      stopwords=STOPWORDS,\n",
        "                      background_color='white',\n",
        "                      width=800,\n",
        "                      height=400\n",
        "            ).generate(words)\n",
        "print(\"ALL Categories:\")\n",
        "plt.figure(figsize=(10, 5))\n",
        "plt.imshow(wordcloud)\n",
        "plt.axis('off')\n",
        "plt.show()\n",
        "'''"
      ],
      "execution_count": 6,
      "outputs": [
        {
          "output_type": "execute_result",
          "data": {
            "text/plain": [
              "'\\n#WordCloud\\ncat = df[\\'category\\'].unique()\\n\\nfor i in range(0,len(cat)):\\n    words = \\' \\'.join(df.loc[df[\\'category\\']==cat[i], \\'text\\'])\\n\\n    wordcloud = WordCloud( \\n                          stopwords=STOPWORDS,\\n                          background_color=\\'white\\',\\n                          width=800,\\n                          height=400\\n                ).generate(words)\\n    print(cat[i])\\n    plt.figure(figsize=(10, 5))\\n    plt.imshow(wordcloud)\\n    plt.axis(\\'off\\')\\n    plt.show()\\n\\nwords = \\' \\'.join(df.loc[:, \\'text\\'])\\n\\nwordcloud = WordCloud( \\n                      stopwords=STOPWORDS,\\n                      background_color=\\'white\\',\\n                      width=800,\\n                      height=400\\n            ).generate(words)\\nprint(\"ALL Categories:\")\\nplt.figure(figsize=(10, 5))\\nplt.imshow(wordcloud)\\nplt.axis(\\'off\\')\\nplt.show()\\n'"
            ]
          },
          "metadata": {
            "tags": []
          },
          "execution_count": 6
        }
      ]
    },
    {
      "cell_type": "markdown",
      "metadata": {
        "id": "JR2fsHlbr_Tj",
        "colab_type": "text"
      },
      "source": [
        "## Split Data"
      ]
    },
    {
      "cell_type": "code",
      "metadata": {
        "id": "385fGoXNldB0",
        "colab_type": "code",
        "colab": {}
      },
      "source": [
        "y_train = data.target\n",
        "X_train = pd.DataFrame({'text':data.data})\n",
        "X_test = pd.DataFrame({'text':test_data.data})\n",
        "y_test = test_data.target\n"
      ],
      "execution_count": 0,
      "outputs": []
    },
    {
      "cell_type": "code",
      "metadata": {
        "id": "iuZyVOsKKD6T",
        "colab_type": "code",
        "outputId": "ba1410aa-cdd1-4a43-90f1-2343ed5c098f",
        "colab": {
          "base_uri": "https://localhost:8080/",
          "height": 363
        }
      },
      "source": [
        "#Map label name to its index\n",
        "labels_index = {}\n",
        "for i in range(len(test_data.target_names)):\n",
        "  labels_index[test_data.target_names[i]] = i\n",
        "\n",
        "labels_index"
      ],
      "execution_count": 8,
      "outputs": [
        {
          "output_type": "execute_result",
          "data": {
            "text/plain": [
              "{'alt.atheism': 0,\n",
              " 'comp.graphics': 1,\n",
              " 'comp.os.ms-windows.misc': 2,\n",
              " 'comp.sys.ibm.pc.hardware': 3,\n",
              " 'comp.sys.mac.hardware': 4,\n",
              " 'comp.windows.x': 5,\n",
              " 'misc.forsale': 6,\n",
              " 'rec.autos': 7,\n",
              " 'rec.motorcycles': 8,\n",
              " 'rec.sport.baseball': 9,\n",
              " 'rec.sport.hockey': 10,\n",
              " 'sci.crypt': 11,\n",
              " 'sci.electronics': 12,\n",
              " 'sci.med': 13,\n",
              " 'sci.space': 14,\n",
              " 'soc.religion.christian': 15,\n",
              " 'talk.politics.guns': 16,\n",
              " 'talk.politics.mideast': 17,\n",
              " 'talk.politics.misc': 18,\n",
              " 'talk.religion.misc': 19}"
            ]
          },
          "metadata": {
            "tags": []
          },
          "execution_count": 8
        }
      ]
    },
    {
      "cell_type": "markdown",
      "metadata": {
        "id": "1e6g_BjOsZ3i",
        "colab_type": "text"
      },
      "source": [
        "## Preprocess Data - (split by \\n, remove periods, remove slashes)"
      ]
    },
    {
      "cell_type": "markdown",
      "metadata": {
        "id": "Y_4FBMcX9kzQ",
        "colab_type": "text"
      },
      "source": [
        "### HAN requires the data to be 3D instead of 2D like in CNN or RNN. i.e, we will generate data as list of sentences which are list of words"
      ]
    },
    {
      "cell_type": "code",
      "metadata": {
        "id": "fkDSvsY8cv5g",
        "colab_type": "code",
        "colab": {}
      },
      "source": [
        "#Parameters for hyperparameter  tuning\n",
        "dropout = 0.3\n",
        "EMBEDDING_DIM = 300\n",
        "traina = True #embeedding layer trainable"
      ],
      "execution_count": 0,
      "outputs": []
    },
    {
      "cell_type": "code",
      "metadata": {
        "id": "_3Iv6MC3s26i",
        "colab_type": "code",
        "colab": {}
      },
      "source": [
        "def preprocess(X):\n",
        "  return X.map(lambda x: x.lower().split(\"\\n\")).map(lambda x: [y.split(\". \") for y in x]).map(lambda x: [i.replace('\\'','') for sl in x for i in sl if i is not ''])"
      ],
      "execution_count": 0,
      "outputs": []
    },
    {
      "cell_type": "code",
      "metadata": {
        "id": "6EgQMq_CtK8d",
        "colab_type": "code",
        "colab": {}
      },
      "source": [
        "#Preprocess both train and test separately. Remove punctuations and other unwanted characters\n",
        "def replace_punct(st,punct):\n",
        "  for i in punct:\n",
        "    if i==\"..\":\n",
        "      st = st.replace(\"..\",'.')\n",
        "    elif i==\"--\" or i == '-':\n",
        "      st = st.replace(i,' ')\n",
        "    else:\n",
        "      st = st.replace(i,'')\n",
        "  return st\n",
        "punct = word_tokenize(string.punctuation) + ['``','...','..','\\'s','--','-','n\\'t','\\'','(',')','[',']','{','}']\n",
        "texts = preprocess(X_train['text']).map(lambda x: '. '.join(x)).map(lambda x: replace_punct(x,punct))\n",
        "test_text = preprocess(X_test['text']).map(lambda x: '. '.join(x)).map(lambda x: replace_punct(x,punct))"
      ],
      "execution_count": 0,
      "outputs": []
    },
    {
      "cell_type": "code",
      "metadata": {
        "id": "Wx7rLmbykkXS",
        "colab_type": "code",
        "colab": {}
      },
      "source": [
        "#Get all sentences for all news\n",
        "articles = texts.map(lambda x: sent_tokenize(x))\n",
        "test_articles = test_text.map(lambda x: sent_tokenize(x))"
      ],
      "execution_count": 0,
      "outputs": []
    },
    {
      "cell_type": "code",
      "metadata": {
        "id": "6bVCPt-Bl0r_",
        "colab_type": "code",
        "outputId": "a7e13478-4a55-4400-b879-b4ee3fc75a43",
        "colab": {
          "base_uri": "https://localhost:8080/",
          "height": 407
        }
      },
      "source": [
        "#Find the optimum sentence length and number of sentences for tokenization by generating a boxplot\n",
        "# and choosing MAX_SENTS and MAX_SENT_LENGTH such that we remove outliers\n",
        "max_se = []\n",
        "max_se_length = []\n",
        "for x in articles:\n",
        "  max_se.append(len(x))\n",
        "  for y in x:\n",
        "    max_se_length.append(len(y.split()))\n",
        "  \n",
        "plt.boxplot(max_se,showcaps=True)\n",
        "# We can see in below plot that optimal number of sentences is around 50"
      ],
      "execution_count": 13,
      "outputs": [
        {
          "output_type": "execute_result",
          "data": {
            "text/plain": [
              "{'boxes': [<matplotlib.lines.Line2D at 0x7f4357ea1160>],\n",
              " 'caps': [<matplotlib.lines.Line2D at 0x7f4357ea1978>,\n",
              "  <matplotlib.lines.Line2D at 0x7f4357ea1cc0>],\n",
              " 'fliers': [<matplotlib.lines.Line2D at 0x7f4357eb5390>],\n",
              " 'means': [],\n",
              " 'medians': [<matplotlib.lines.Line2D at 0x7f4357eb5048>],\n",
              " 'whiskers': [<matplotlib.lines.Line2D at 0x7f4357ea12b0>,\n",
              "  <matplotlib.lines.Line2D at 0x7f4357ea1630>]}"
            ]
          },
          "metadata": {
            "tags": []
          },
          "execution_count": 13
        },
        {
          "output_type": "display_data",
          "data": {
            "image/png": "[encoded data removed]",
            "text/plain": [
              "<Figure size 432x288 with 1 Axes>"
            ]
          },
          "metadata": {
            "tags": []
          }
        }
      ]
    },
    {
      "cell_type": "code",
      "metadata": {
        "id": "iHEJ5p_udA1_",
        "colab_type": "code",
        "outputId": "2e38f5eb-f40b-46f6-eb40-e50d94322c52",
        "colab": {
          "base_uri": "https://localhost:8080/",
          "height": 35
        }
      },
      "source": [
        "np.quantile(max_se, 0.97)"
      ],
      "execution_count": 14,
      "outputs": [
        {
          "output_type": "execute_result",
          "data": {
            "text/plain": [
              "142.61000000000058"
            ]
          },
          "metadata": {
            "tags": []
          },
          "execution_count": 14
        }
      ]
    },
    {
      "cell_type": "code",
      "metadata": {
        "id": "gK-HJQUG77nf",
        "colab_type": "code",
        "outputId": "620c2b67-5571-4c3e-b8fd-56bf7b65ed8e",
        "colab": {
          "base_uri": "https://localhost:8080/",
          "height": 407
        }
      },
      "source": [
        "plt.boxplot(max_se_length,showcaps=True)\n",
        "# We can see in below plot that optimal sentence length is around 50"
      ],
      "execution_count": 15,
      "outputs": [
        {
          "output_type": "execute_result",
          "data": {
            "text/plain": [
              "{'boxes': [<matplotlib.lines.Line2D at 0x7f4357e36160>],\n",
              " 'caps': [<matplotlib.lines.Line2D at 0x7f4357e36978>,\n",
              "  <matplotlib.lines.Line2D at 0x7f4357e36cc0>],\n",
              " 'fliers': [<matplotlib.lines.Line2D at 0x7f4357e3f390>],\n",
              " 'means': [],\n",
              " 'medians': [<matplotlib.lines.Line2D at 0x7f4357e3f048>],\n",
              " 'whiskers': [<matplotlib.lines.Line2D at 0x7f4357e362b0>,\n",
              "  <matplotlib.lines.Line2D at 0x7f4357e36630>]}"
            ]
          },
          "metadata": {
            "tags": []
          },
          "execution_count": 15
        },
        {
          "output_type": "display_data",
          "data": {
            "image/png": "[encoded data removed]",
            "text/plain": [
              "<Figure size 432x288 with 1 Axes>"
            ]
          },
          "metadata": {
            "tags": []
          }
        }
      ]
    },
    {
      "cell_type": "code",
      "metadata": {
        "id": "Rx6mFzdbdRI-",
        "colab_type": "code",
        "outputId": "a3ac76b7-0fbb-4014-e9a6-7f6393ac3d0e",
        "colab": {
          "base_uri": "https://localhost:8080/",
          "height": 35
        }
      },
      "source": [
        "np.quantile(max_se_length, 0.97)"
      ],
      "execution_count": 16,
      "outputs": [
        {
          "output_type": "execute_result",
          "data": {
            "text/plain": [
              "15.0"
            ]
          },
          "metadata": {
            "tags": []
          },
          "execution_count": 16
        }
      ]
    },
    {
      "cell_type": "code",
      "metadata": {
        "id": "eJwCB-hGlWXW",
        "colab_type": "code",
        "outputId": "26d923b9-ec0c-4e8b-ca8a-15e9592ac5f4",
        "colab": {
          "base_uri": "https://localhost:8080/",
          "height": 35
        }
      },
      "source": [
        "#Choose parameters accordingly and load glove model corresponding to the embedding dimension that was the best in hyperparameter tuning\n",
        "MAX_SEQUENCE_LENGTH = 1000\n",
        "MAX_SENT_LENGTH = 15\n",
        "MAX_SENTS = 143\n",
        "MAX_NB_WORDS = 20000\n",
        "VALIDATION_SPLIT = 0.2\n",
        "embeddings_index = {}\n",
        "with open('glove.6B.'+str(EMBEDDING_DIM)+'d.txt') as f:\n",
        "    for line in f:\n",
        "        word, coefs = line.split(maxsplit=1)\n",
        "        coefs = np.fromstring(coefs, 'f', sep=' ')\n",
        "        embeddings_index[word] = coefs\n",
        "\n",
        "print('Found %s word vectors.' % len(embeddings_index))"
      ],
      "execution_count": 17,
      "outputs": [
        {
          "output_type": "stream",
          "text": [
            "Found 400000 word vectors.\n"
          ],
          "name": "stdout"
        }
      ]
    },
    {
      "cell_type": "code",
      "metadata": {
        "id": "xGvbU8VulRqC",
        "colab_type": "code",
        "outputId": "569cff7b-ffd6-48a2-9019-be905d9a8ed7",
        "colab": {
          "base_uri": "https://localhost:8080/",
          "height": 35
        }
      },
      "source": [
        "#Create 3D data with tokenizer word_index. Neglect words which are not in word_index\n",
        "tokenizer = Tokenizer(num_words=MAX_NB_WORDS)\n",
        "tokenizer.fit_on_texts(texts)\n",
        "\n",
        "data = np.zeros((len(texts), MAX_SENTS, MAX_SENT_LENGTH), dtype='int32')\n",
        "\n",
        "for i, sentences in enumerate(articles):\n",
        "    for j, sent in enumerate(sentences):\n",
        "        if j< MAX_SENTS:\n",
        "            wordTokens = text_to_word_sequence(sent)\n",
        "            k=0\n",
        "            for _, word in enumerate(wordTokens):\n",
        "                if k<MAX_SENT_LENGTH and tokenizer.word_index[word]<MAX_NB_WORDS:\n",
        "                    data[i,j,k] = tokenizer.word_index[word]\n",
        "                    k=k+1\n",
        "                    \n",
        "word_index = tokenizer.word_index\n",
        "print('No. of %s unique tokens.' % len(word_index))"
      ],
      "execution_count": 18,
      "outputs": [
        {
          "output_type": "stream",
          "text": [
            "No. of 151845 unique tokens.\n"
          ],
          "name": "stdout"
        }
      ]
    },
    {
      "cell_type": "code",
      "metadata": {
        "id": "12KRmMu8tK11",
        "colab_type": "code",
        "colab": {}
      },
      "source": [
        "#Do the same for test data with the same tokenizer (fit on train data). Neglect words which are not in word_index\n",
        "test_data = np.zeros((len(test_text), MAX_SENTS, MAX_SENT_LENGTH), dtype='int32')\n",
        "\n",
        "for i, sentences in enumerate(test_articles):\n",
        "    for j, sent in enumerate(sentences):\n",
        "        if j< MAX_SENTS:\n",
        "            wordTokens = text_to_word_sequence(sent)\n",
        "            k=0\n",
        "            for _, word in enumerate(wordTokens):\n",
        "                if k<MAX_SENT_LENGTH and word in tokenizer.word_index and tokenizer.word_index[word]<MAX_NB_WORDS:\n",
        "                    test_data[i,j,k] = tokenizer.word_index[word]\n",
        "                    k=k+1"
      ],
      "execution_count": 0,
      "outputs": []
    },
    {
      "cell_type": "code",
      "metadata": {
        "id": "wb3DxolUuYHy",
        "colab_type": "code",
        "outputId": "c6545b24-42ac-4a95-8c65-d401bb1c8cfa",
        "colab": {
          "base_uri": "https://localhost:8080/",
          "height": 35
        }
      },
      "source": [
        "test_data.shape"
      ],
      "execution_count": 20,
      "outputs": [
        {
          "output_type": "execute_result",
          "data": {
            "text/plain": [
              "(7532, 143, 15)"
            ]
          },
          "metadata": {
            "tags": []
          },
          "execution_count": 20
        }
      ]
    },
    {
      "cell_type": "code",
      "metadata": {
        "id": "cmPomOGXoP0f",
        "colab_type": "code",
        "outputId": "eacf963d-6242-450c-99f2-7a413a897ec4",
        "colab": {
          "base_uri": "https://localhost:8080/",
          "height": 52
        }
      },
      "source": [
        "#Split training and validation data with 20% split. So final is training 64%, validation 16% and test 20% of whole data\n",
        "labels = to_categorical(np.asarray(y_train))\n",
        "print('Shape of data tensor:', data.shape)\n",
        "print('Shape of label tensor:', labels.shape)\n",
        "\n",
        "np.random.seed(123)\n",
        "indices = np.arange(data.shape[0])\n",
        "np.random.shuffle(indices)\n",
        "data = data[indices]\n",
        "labels = labels[indices]\n",
        "nb_validation_samples = int(VALIDATION_SPLIT * data.shape[0])\n",
        "\n",
        "xtrain = data[:-nb_validation_samples]\n",
        "ytrain = labels[:-nb_validation_samples]\n",
        "xval = data[-nb_validation_samples:]\n",
        "yval = labels[-nb_validation_samples:]"
      ],
      "execution_count": 21,
      "outputs": [
        {
          "output_type": "stream",
          "text": [
            "Shape of data tensor: (11314, 143, 15)\n",
            "Shape of label tensor: (11314, 20)\n"
          ],
          "name": "stdout"
        }
      ]
    },
    {
      "cell_type": "code",
      "metadata": {
        "id": "Wme2RkYu2UR0",
        "colab_type": "code",
        "outputId": "53824be5-236b-4214-ff20-4ec465d03732",
        "colab": {
          "base_uri": "https://localhost:8080/",
          "height": 55
        }
      },
      "source": [
        "'''\n",
        "#Stop Words and Lemmatization   \n",
        "lemmatizer = WordNetLemmatizer()\n",
        "stopw = nltk.corpus.stopwords.words('english')\n",
        "punct = string.punctuation\n",
        "punct = word_tokenize(punct)\n",
        "punct += ['.','``','...','\\'s','--','-','n\\'t','\\'']\n",
        "stopw += punct\n",
        "def token_stop(text):\n",
        "    global stopw\n",
        "    global lemmatizer\n",
        "    words = word_tokenize(text)\n",
        "    filtered = [lemmatizer.lemmatize(w) for w in words if not w in stopw]\n",
        "    return filtered\n",
        "  \n",
        "X_train['text'] = X_train['text'].map(lambda x: [token_stop(i) for i in x]).map(lambda x: [i for sl in x for i in sl])\n",
        "X_test['text'] = X_test['text'].map(lambda x: [token_stop(i) for i in x]).map(lambda x: [i for sl in x for i in sl])\n",
        "'''"
      ],
      "execution_count": 22,
      "outputs": [
        {
          "output_type": "execute_result",
          "data": {
            "text/plain": [
              "\"\\n#Stop Words and Lemmatization   \\nlemmatizer = WordNetLemmatizer()\\nstopw = nltk.corpus.stopwords.words('english')\\npunct = string.punctuation\\npunct = word_tokenize(punct)\\npunct += ['.','``','...',''s','--','-','n't',''']\\nstopw += punct\\ndef token_stop(text):\\n    global stopw\\n    global lemmatizer\\n    words = word_tokenize(text)\\n    filtered = [lemmatizer.lemmatize(w) for w in words if not w in stopw]\\n    return filtered\\n  \\nX_train['text'] = X_train['text'].map(lambda x: [token_stop(i) for i in x]).map(lambda x: [i for sl in x for i in sl])\\nX_test['text'] = X_test['text'].map(lambda x: [token_stop(i) for i in x]).map(lambda x: [i for sl in x for i in sl])\\n\""
            ]
          },
          "metadata": {
            "tags": []
          },
          "execution_count": 22
        }
      ]
    },
    {
      "cell_type": "code",
      "metadata": {
        "id": "VofHdiAqIRqc",
        "colab_type": "code",
        "colab": {}
      },
      "source": [
        "#Create glove embedding matrix\n",
        "embedding_matrix = np.zeros((len(word_index) + 1, EMBEDDING_DIM))\n",
        "for word, i in word_index.items():\n",
        "    embedding_vector = embeddings_index.get(word)\n",
        "    if embedding_vector is not None:\n",
        "        # words not found in embedding index will be all-zeros.\n",
        "        embedding_matrix[i] = embedding_vector"
      ],
      "execution_count": 0,
      "outputs": []
    },
    {
      "cell_type": "markdown",
      "metadata": {
        "id": "e18TBVrC9iwT",
        "colab_type": "text"
      },
      "source": [
        "## Train Model"
      ]
    },
    {
      "cell_type": "code",
      "metadata": {
        "id": "3xOvfu82wTmg",
        "colab_type": "code",
        "colab": {}
      },
      "source": [
        "#Keras Glove Embedding layer\n",
        "embedding_layer = Embedding(len(word_index) + 1,\n",
        "                            EMBEDDING_DIM,\n",
        "                            weights=[embedding_matrix],\n",
        "                            input_length=MAX_SENT_LENGTH,\n",
        "                            trainable=traina)"
      ],
      "execution_count": 0,
      "outputs": []
    },
    {
      "cell_type": "code",
      "metadata": {
        "id": "ijGeDWg6-XsZ",
        "colab_type": "code",
        "colab": {}
      },
      "source": [
        "#Callbacks - checkpointer, early stopping and tensorboard\n",
        "model_name = \"HAN-\"+'d2-'+str(dropout)+\"-\"+str(EMBEDDING_DIM)+\"-Trainable-\"+str(traina)\n",
        "checkpointer = ModelCheckpoint(model_name + \"_weights.{epoch:02d}-{val_loss:.2f}.hdf5\", monitor=\"val_loss\", verbose=1,\n",
        "                               save_best_only=True, mode='min')\n",
        "early_stopping = EarlyStopping(monitor='val_loss', min_delta=0, patience=10, verbose=1, mode='auto')\n",
        "tensorboard_han = TensorBoard(log_dir='./Graph_HAN', histogram_freq=1,write_graph=True,write_grads=True, write_images=True)"
      ],
      "execution_count": 0,
      "outputs": []
    },
    {
      "cell_type": "code",
      "metadata": {
        "id": "53s9TZ_mI_XY",
        "colab_type": "code",
        "outputId": "d86079f9-a2c3-4034-bb53-2f50f50a10b1",
        "colab": {
          "base_uri": "https://localhost:8080/",
          "height": 400
        }
      },
      "source": [
        "#Model Architecture\n",
        "sentence_input = Input(shape=(MAX_SENT_LENGTH,), dtype='int32')\n",
        "embedded_sequences = embedding_layer(sentence_input)\n",
        "lstm_layer = Bidirectional(LSTM(100,dropout=dropout))(embedded_sequences)\n",
        "sentEncoder = Model(sentence_input, lstm_layer)\n",
        "\n",
        "article_input = Input(shape=(MAX_SENTS,MAX_SENT_LENGTH), dtype='int32')\n",
        "article_encoder = TimeDistributed(sentEncoder)(article_input)\n",
        "lstm_layer_sent = Bidirectional(LSTM(100,dropout=dropout))(article_encoder)\n",
        "preds = Dense(len(labels_index), activation='softmax')(lstm_layer_sent)\n",
        "han_model = Model(article_input, preds)\n",
        "\n",
        "han_model.compile(loss='categorical_crossentropy',\n",
        "              optimizer='rmsprop',\n",
        "              metrics=['acc'])\n",
        "han_model.summary()"
      ],
      "execution_count": 26,
      "outputs": [
        {
          "output_type": "stream",
          "text": [
            "WARNING:tensorflow:From /usr/local/lib/python3.6/dist-packages/tensorflow/python/framework/op_def_library.py:263: colocate_with (from tensorflow.python.framework.ops) is deprecated and will be removed in a future version.\n",
            "Instructions for updating:\n",
            "Colocations handled automatically by placer.\n",
            "WARNING:tensorflow:From /usr/local/lib/python3.6/dist-packages/keras/backend/tensorflow_backend.py:3445: calling dropout (from tensorflow.python.ops.nn_ops) with keep_prob is deprecated and will be removed in a future version.\n",
            "Instructions for updating:\n",
            "Please use `rate` instead of `keep_prob`. Rate should be set to `rate = 1 - keep_prob`.\n",
            "_________________________________________________________________\n",
            "Layer (type)                 Output Shape              Param #   \n",
            "=================================================================\n",
            "input_2 (InputLayer)         (None, 143, 15)           0         \n",
            "_________________________________________________________________\n",
            "time_distributed_1 (TimeDist (None, 143, 200)          45874600  \n",
            "_________________________________________________________________\n",
            "bidirectional_2 (Bidirection (None, 200)               240800    \n",
            "_________________________________________________________________\n",
            "dense_1 (Dense)              (None, 20)                4020      \n",
            "=================================================================\n",
            "Total params: 46,119,420\n",
            "Trainable params: 46,119,420\n",
            "Non-trainable params: 0\n",
            "_________________________________________________________________\n"
          ],
          "name": "stdout"
        }
      ]
    },
    {
      "cell_type": "code",
      "metadata": {
        "id": "Fp3SQDq3-tfj",
        "colab_type": "code",
        "outputId": "db384b81-2a22-4a03-bbfe-c6fc1116d758",
        "colab": {
          "base_uri": "https://localhost:8080/",
          "height": 1592
        }
      },
      "source": [
        "#Train Model\n",
        "stmillis = int(round(time.time() * 1000))\n",
        "history = han_model.fit(xtrain, ytrain, validation_data=(xval, yval),\n",
        "          epochs=50, batch_size=128, callbacks=[checkpointer, early_stopping])\n",
        "endmillis = int(round(time.time() * 1000))\n",
        "print(\"Time taken: \", endmillis - stmillis)"
      ],
      "execution_count": 27,
      "outputs": [
        {
          "output_type": "stream",
          "text": [
            "WARNING:tensorflow:From /usr/local/lib/python3.6/dist-packages/tensorflow/python/ops/math_ops.py:3066: to_int32 (from tensorflow.python.ops.math_ops) is deprecated and will be removed in a future version.\n",
            "Instructions for updating:\n",
            "Use tf.cast instead.\n",
            "Train on 9052 samples, validate on 2262 samples\n",
            "Epoch 1/50\n",
            "9052/9052 [==============================] - 78s 9ms/step - loss: 2.4219 - acc: 0.2361 - val_loss: 1.7725 - val_acc: 0.4328\n",
            "\n",
            "Epoch 00001: val_loss improved from inf to 1.77250, saving model to HAN-d2-0.3-300-Trainable-True_weights.01-1.77.hdf5\n",
            "Epoch 2/50\n",
            "9052/9052 [==============================] - 74s 8ms/step - loss: 1.3256 - acc: 0.5591 - val_loss: 1.0132 - val_acc: 0.6525\n",
            "\n",
            "Epoch 00002: val_loss improved from 1.77250 to 1.01319, saving model to HAN-d2-0.3-300-Trainable-True_weights.02-1.01.hdf5\n",
            "Epoch 3/50\n",
            "9052/9052 [==============================] - 75s 8ms/step - loss: 0.8165 - acc: 0.7290 - val_loss: 0.6421 - val_acc: 0.8002\n",
            "\n",
            "Epoch 00003: val_loss improved from 1.01319 to 0.64205, saving model to HAN-d2-0.3-300-Trainable-True_weights.03-0.64.hdf5\n",
            "Epoch 4/50\n",
            "9052/9052 [==============================] - 74s 8ms/step - loss: 0.5520 - acc: 0.8237 - val_loss: 0.5845 - val_acc: 0.8077\n",
            "\n",
            "Epoch 00004: val_loss improved from 0.64205 to 0.58451, saving model to HAN-d2-0.3-300-Trainable-True_weights.04-0.58.hdf5\n",
            "Epoch 5/50\n",
            "9052/9052 [==============================] - 74s 8ms/step - loss: 0.3889 - acc: 0.8786 - val_loss: 0.4973 - val_acc: 0.8497\n",
            "\n",
            "Epoch 00005: val_loss improved from 0.58451 to 0.49733, saving model to HAN-d2-0.3-300-Trainable-True_weights.05-0.50.hdf5\n",
            "Epoch 6/50\n",
            "9052/9052 [==============================] - 74s 8ms/step - loss: 0.2949 - acc: 0.9091 - val_loss: 0.4627 - val_acc: 0.8616\n",
            "\n",
            "Epoch 00006: val_loss improved from 0.49733 to 0.46265, saving model to HAN-d2-0.3-300-Trainable-True_weights.06-0.46.hdf5\n",
            "Epoch 7/50\n",
            "9052/9052 [==============================] - 75s 8ms/step - loss: 0.2221 - acc: 0.9318 - val_loss: 0.3991 - val_acc: 0.8833\n",
            "\n",
            "Epoch 00007: val_loss improved from 0.46265 to 0.39914, saving model to HAN-d2-0.3-300-Trainable-True_weights.07-0.40.hdf5\n",
            "Epoch 8/50\n",
            "9052/9052 [==============================] - 74s 8ms/step - loss: 0.1742 - acc: 0.9482 - val_loss: 0.3767 - val_acc: 0.8873\n",
            "\n",
            "Epoch 00008: val_loss improved from 0.39914 to 0.37674, saving model to HAN-d2-0.3-300-Trainable-True_weights.08-0.38.hdf5\n",
            "Epoch 9/50\n",
            "9052/9052 [==============================] - 74s 8ms/step - loss: 0.1238 - acc: 0.9628 - val_loss: 0.4145 - val_acc: 0.8908\n",
            "\n",
            "Epoch 00009: val_loss did not improve from 0.37674\n",
            "Epoch 10/50\n",
            "9052/9052 [==============================] - 74s 8ms/step - loss: 0.1007 - acc: 0.9696 - val_loss: 0.4435 - val_acc: 0.8842\n",
            "\n",
            "Epoch 00010: val_loss did not improve from 0.37674\n",
            "Epoch 11/50\n",
            "9052/9052 [==============================] - 74s 8ms/step - loss: 0.0746 - acc: 0.9765 - val_loss: 0.3662 - val_acc: 0.9032\n",
            "\n",
            "Epoch 00011: val_loss improved from 0.37674 to 0.36618, saving model to HAN-d2-0.3-300-Trainable-True_weights.11-0.37.hdf5\n",
            "Epoch 12/50\n",
            "9052/9052 [==============================] - 74s 8ms/step - loss: 0.0609 - acc: 0.9814 - val_loss: 0.3937 - val_acc: 0.9072\n",
            "\n",
            "Epoch 00012: val_loss did not improve from 0.36618\n",
            "Epoch 13/50\n",
            "9052/9052 [==============================] - 74s 8ms/step - loss: 0.0470 - acc: 0.9849 - val_loss: 0.3873 - val_acc: 0.9125\n",
            "\n",
            "Epoch 00013: val_loss did not improve from 0.36618\n",
            "Epoch 14/50\n",
            "9052/9052 [==============================] - 74s 8ms/step - loss: 0.0434 - acc: 0.9870 - val_loss: 0.3943 - val_acc: 0.9116\n",
            "\n",
            "Epoch 00014: val_loss did not improve from 0.36618\n",
            "Epoch 15/50\n",
            "9052/9052 [==============================] - 75s 8ms/step - loss: 0.0329 - acc: 0.9907 - val_loss: 0.4091 - val_acc: 0.9116\n",
            "\n",
            "Epoch 00015: val_loss did not improve from 0.36618\n",
            "Epoch 16/50\n",
            "9052/9052 [==============================] - 74s 8ms/step - loss: 0.0273 - acc: 0.9927 - val_loss: 0.4376 - val_acc: 0.9054\n",
            "\n",
            "Epoch 00016: val_loss did not improve from 0.36618\n",
            "Epoch 17/50\n",
            "9052/9052 [==============================] - 74s 8ms/step - loss: 0.0200 - acc: 0.9946 - val_loss: 0.4134 - val_acc: 0.9142\n",
            "\n",
            "Epoch 00017: val_loss did not improve from 0.36618\n",
            "Epoch 18/50\n",
            "9052/9052 [==============================] - 74s 8ms/step - loss: 0.0179 - acc: 0.9951 - val_loss: 0.4174 - val_acc: 0.9204\n",
            "\n",
            "Epoch 00018: val_loss did not improve from 0.36618\n",
            "Epoch 19/50\n",
            "9052/9052 [==============================] - 74s 8ms/step - loss: 0.0154 - acc: 0.9952 - val_loss: 0.4654 - val_acc: 0.9063\n",
            "\n",
            "Epoch 00019: val_loss did not improve from 0.36618\n",
            "Epoch 20/50\n",
            "9052/9052 [==============================] - 74s 8ms/step - loss: 0.0134 - acc: 0.9964 - val_loss: 0.4759 - val_acc: 0.9058\n",
            "\n",
            "Epoch 00020: val_loss did not improve from 0.36618\n",
            "Epoch 21/50\n",
            "9052/9052 [==============================] - 74s 8ms/step - loss: 0.0142 - acc: 0.9958 - val_loss: 0.4574 - val_acc: 0.9089\n",
            "\n",
            "Epoch 00021: val_loss did not improve from 0.36618\n",
            "Epoch 00021: early stopping\n",
            "Time taken:  1575477\n"
          ],
          "name": "stdout"
        }
      ]
    },
    {
      "cell_type": "code",
      "metadata": {
        "id": "h7GxyO5c8VFZ",
        "colab_type": "code",
        "outputId": "920771a5-1d76-414a-ac18-0c635def03c6",
        "colab": {
          "base_uri": "https://localhost:8080/",
          "height": 303
        }
      },
      "source": [
        "#Plot accuracy curve\n",
        "fig=plt.figure()\n",
        "plt.plot(history.history['acc'],'r',linewidth=3.0)\n",
        "plt.plot(history.history['val_acc'],'b',linewidth=3.0)\n",
        "plt.legend(['Training Accuracy', 'Validation Accuracy'],fontsize=18)\n",
        "plt.xlabel('Epochs ',fontsize=16)\n",
        "plt.ylabel('Accuracy',fontsize=16)\n",
        "plt.title('Accuracy Curves : HAN',fontsize=16)\n",
        "fig.savefig(model_name+'-ACC'+'.png')\n",
        "plt.show()"
      ],
      "execution_count": 28,
      "outputs": [
        {
          "output_type": "display_data",
          "data": {
            "image/png": "[encoded data removed]",
            "text/plain": [
              "<Figure size 432x288 with 1 Axes>"
            ]
          },
          "metadata": {
            "tags": []
          }
        }
      ]
    },
    {
      "cell_type": "code",
      "metadata": {
        "id": "Z73Z42jPBsd3",
        "colab_type": "code",
        "outputId": "56d07d7c-4eaf-4e93-d1a8-1b35265f0d0e",
        "colab": {
          "base_uri": "https://localhost:8080/",
          "height": 303
        }
      },
      "source": [
        "#Plot loss curve\n",
        "fig=plt.figure()\n",
        "plt.plot(history.history['loss'],'r',linewidth=3.0)\n",
        "plt.plot(history.history['val_loss'],'b',linewidth=3.0)\n",
        "plt.legend(['Training Loss', 'Validation Loss'],fontsize=18)\n",
        "plt.xlabel('Epochs ',fontsize=16)\n",
        "plt.ylabel('Loss',fontsize=16)\n",
        "plt.title('Loss Curves : HAN',fontsize=16)\n",
        "fig.savefig(model_name+'.png')\n",
        "plt.show()"
      ],
      "execution_count": 29,
      "outputs": [
        {
          "output_type": "display_data",
          "data": {
            "image/png": "[encoded data removed]",
            "text/plain": [
              "<Figure size 432x288 with 1 Axes>"
            ]
          },
          "metadata": {
            "tags": []
          }
        }
      ]
    },
    {
      "cell_type": "code",
      "metadata": {
        "id": "LUmI9aHUlCgI",
        "colab_type": "code",
        "outputId": "b25c1d7a-a575-4ff6-8468-e5068fdfa948",
        "colab": {
          "base_uri": "https://localhost:8080/",
          "height": 35
        }
      },
      "source": [
        "model_name"
      ],
      "execution_count": 30,
      "outputs": [
        {
          "output_type": "execute_result",
          "data": {
            "text/plain": [
              "'HAN-d2-0.3-300-Trainable-True'"
            ]
          },
          "metadata": {
            "tags": []
          },
          "execution_count": 30
        }
      ]
    },
    {
      "cell_type": "code",
      "metadata": {
        "id": "8nUIMMQi_KrR",
        "colab_type": "code",
        "colab": {}
      },
      "source": [
        "# Save the trained weights\n",
        "han_model.save(model_name + \".h5\")\n",
        "\n",
        "# Save model config as json\n",
        "model_json = han_model.to_json()\n",
        "with open(model_name + \".json\", \"w\") as json_file:\n",
        "    json_file.write(model_json)\n",
        "\n",
        "# Persist the model to your google drive [VERY IMPORTANT]\n",
        "!cp HAN* gdrive/My\\ Drive/"
      ],
      "execution_count": 0,
      "outputs": []
    },
    {
      "cell_type": "markdown",
      "metadata": {
        "id": "7BAwr4x19nMo",
        "colab_type": "text"
      },
      "source": [
        "## Predict on Test Data"
      ]
    },
    {
      "cell_type": "code",
      "metadata": {
        "id": "WKBnc1HE3dp_",
        "colab_type": "code",
        "colab": {}
      },
      "source": [
        "#Load the weights of the model which had the best validation loss\n",
        "best_model_weights = 'HAN-d2-0.3-300-Trainable-True_weights.11-0.37.hdf5'\n",
        "!cp gdrive/My\\ Drive/HAN-d2-0.3-300-Trainable-True_weights.11-0.37.hdf5 .\n",
        "!cp gdrive/My\\ Drive/HAN-d2-0.3-300-Trainable-True.json ."
      ],
      "execution_count": 0,
      "outputs": []
    },
    {
      "cell_type": "code",
      "metadata": {
        "id": "vjUnlz9yH0MU",
        "colab_type": "code",
        "colab": {}
      },
      "source": [
        "json_file = open('HAN-d2-0.3-300-Trainable-True.json', 'r')\n",
        "loaded_model_json = json_file.read()\n",
        "json_file.close()\n",
        "best_model = model_from_json(loaded_model_json)"
      ],
      "execution_count": 0,
      "outputs": []
    },
    {
      "cell_type": "code",
      "metadata": {
        "id": "h0OL0soQ4bqv",
        "colab_type": "code",
        "colab": {}
      },
      "source": [
        "best_model.load_weights(best_model_weights)\n",
        "best_model.compile(loss='categorical_crossentropy',\n",
        "              optimizer='rmsprop',\n",
        "              metrics=['acc'])\n"
      ],
      "execution_count": 0,
      "outputs": []
    },
    {
      "cell_type": "code",
      "metadata": {
        "id": "vIBlzM5zFVhG",
        "colab_type": "code",
        "colab": {}
      },
      "source": [
        "def find_test_acc(prediction):\n",
        "  count = 0\n",
        "  t = 0\n",
        "  for pred in prediction:\n",
        "    p = pred.argmax()\n",
        "    #name = le.inverse_transform([p])\n",
        "    if p == y_test[count]:\n",
        "      t+=1\n",
        "    count+=1\n",
        "  print('Test Accuracy:',(t/count)*100,\"%\")"
      ],
      "execution_count": 0,
      "outputs": []
    },
    {
      "cell_type": "code",
      "metadata": {
        "id": "1sM8QeKfJgRr",
        "colab_type": "code",
        "colab": {}
      },
      "source": [
        "def predict_test(model):\n",
        "  prediction = model.predict(test_data)\n",
        "  find_test_acc(prediction)"
      ],
      "execution_count": 0,
      "outputs": []
    },
    {
      "cell_type": "code",
      "metadata": {
        "id": "u_z5eMImMj57",
        "colab_type": "code",
        "outputId": "c52e1e6c-1231-4f54-b59b-93352ecdd44f",
        "colab": {
          "base_uri": "https://localhost:8080/",
          "height": 35
        }
      },
      "source": [
        "#Final test accuracy on the best model\n",
        "predict_test(best_model)"
      ],
      "execution_count": 37,
      "outputs": [
        {
          "output_type": "stream",
          "text": [
            "Test Accuracy: 83.40414232607542 %\n"
          ],
          "name": "stdout"
        }
      ]
    },
    {
      "cell_type": "code",
      "metadata": {
        "id": "dgYSOq18cH1a",
        "colab_type": "code",
        "colab": {}
      },
      "source": [
        ""
      ],
      "execution_count": 0,
      "outputs": []
    },
    {
      "cell_type": "markdown",
      "metadata": {
        "id": "R55FX-Xq3XkP",
        "colab_type": "text"
      },
      "source": [
        "## Tensorboard"
      ]
    },
    {
      "cell_type": "code",
      "metadata": {
        "id": "Bz0qLhb1Gi2s",
        "colab_type": "code",
        "outputId": "eb622912-1deb-45cb-9be8-0ed2ed93bc44",
        "colab": {
          "base_uri": "https://localhost:8080/",
          "height": 242
        }
      },
      "source": [
        "!wget https://bin.equinox.io/c/4VmDzA7iaHb/ngrok-stable-linux-amd64.zip\n",
        "!unzip ngrok-stable-linux-amd64.zip"
      ],
      "execution_count": 0,
      "outputs": [
        {
          "output_type": "stream",
          "text": [
            "--2019-05-02 23:32:30--  https://bin.equinox.io/c/4VmDzA7iaHb/ngrok-stable-linux-amd64.zip\n",
            "Resolving bin.equinox.io (bin.equinox.io)... 34.206.36.121, 52.22.236.254, 34.206.130.40, ...\n",
            "Connecting to bin.equinox.io (bin.equinox.io)|34.206.36.121|:443... connected.\n",
            "HTTP request sent, awaiting response... 200 OK\n",
            "Length: 14991793 (14M) [application/octet-stream]\n",
            "Saving to: ‘ngrok-stable-linux-amd64.zip’\n",
            "\n",
            "ngrok-stable-linux- 100%[===================>]  14.30M  41.4MB/s    in 0.3s    \n",
            "\n",
            "2019-05-02 23:32:30 (41.4 MB/s) - ‘ngrok-stable-linux-amd64.zip’ saved [14991793/14991793]\n",
            "\n",
            "Archive:  ngrok-stable-linux-amd64.zip\n",
            "  inflating: ngrok                   \n"
          ],
          "name": "stdout"
        }
      ]
    },
    {
      "cell_type": "code",
      "metadata": {
        "id": "2VIBupfd29Rk",
        "colab_type": "code",
        "outputId": "0bea8642-76b3-4b88-ef15-3a46eb85cf32",
        "colab": {
          "base_uri": "https://localhost:8080/",
          "height": 35
        }
      },
      "source": [
        "LOG_DIR = './Graph_HAN'\n",
        "get_ipython().system_raw(\n",
        "    'tensorboard --logdir {} --host 0.0.0.0 --port 6006 &'\n",
        "    .format(LOG_DIR)\n",
        ")\n",
        "get_ipython().system_raw('./ngrok http 6006 &')\n",
        "! curl -s http://localhost:4040/api/tunnels | python3 -c \\\n",
        "    \"import sys, json; print(json.load(sys.stdin)['tunnels'][0]['public_url'])\""
      ],
      "execution_count": 0,
      "outputs": [
        {
          "output_type": "stream",
          "text": [
            "http://e8c26071.ngrok.io\n"
          ],
          "name": "stdout"
        }
      ]
    },
    {
      "cell_type": "code",
      "metadata": {
        "id": "ZoVVP6r65IbG",
        "colab_type": "code",
        "colab": {}
      },
      "source": [
        "!cp -r ./Graph_HAN gdrive/My\\ Drive/."
      ],
      "execution_count": 0,
      "outputs": []
    },
    {
      "cell_type": "code",
      "metadata": {
        "id": "HMMIu1W83CFi",
        "colab_type": "code",
        "outputId": "c011f09c-094b-4b26-ffa4-4817f9283e01",
        "colab": {
          "base_uri": "https://localhost:8080/",
          "height": 535
        }
      },
      "source": [
        "!ls"
      ],
      "execution_count": 0,
      "outputs": [
        {
          "output_type": "stream",
          "text": [
            "accuracy_cnn.png\t  HAN_weights.08-0.25.hdf5\n",
            "bbc\t\t\t  HAN_weights.08-1.18.hdf5\n",
            "bbc-fulltext.zip\t  HAN_weights.09-0.17.hdf5\n",
            "gdrive\t\t\t  HAN_weights.09-1.14.hdf5\n",
            "glove.6B.100d.txt\t  HAN_weights.11-0.16.hdf5\n",
            "glove.6B.200d.txt\t  HAN_weights.11-0.22.hdf5\n",
            "glove.6B.300d.txt\t  HAN_weights.11-1.12.hdf5\n",
            "glove.6B.50d.txt\t  HAN_weights.12-0.15.hdf5\n",
            "glove.6B.zip\t\t  HAN_weights.12-0.19.hdf5\n",
            "HAN.h5\t\t\t  HAN_weights.12-1.10.hdf5\n",
            "HAN.json\t\t  HAN_weights.13-0.13.hdf5\n",
            "HAN_weights.01-0.82.hdf5  HAN_weights.13-0.15.hdf5\n",
            "HAN_weights.01-0.92.hdf5  HAN_weights.14-0.12.hdf5\n",
            "HAN_weights.01-0.95.hdf5  HAN_weights.14-0.13.hdf5\n",
            "HAN_weights.01-1.61.hdf5  HAN_weights.16-0.13.hdf5\n",
            "HAN_weights.02-0.45.hdf5  HAN_weights.16-1.02.hdf5\n",
            "HAN_weights.02-0.47.hdf5  HAN_weights.19-0.92.hdf5\n",
            "HAN_weights.02-0.58.hdf5  HAN_weights.23-0.12.hdf5\n",
            "HAN_weights.02-1.59.hdf5  HAN_weights.23-0.91.hdf5\n",
            "HAN_weights.03-0.53.hdf5  HAN_weights.24-0.10.hdf5\n",
            "HAN_weights.04-0.32.hdf5  HAN_weights.25-0.10.hdf5\n",
            "HAN_weights.04-0.44.hdf5  HAN_weights.30-0.09.hdf5\n",
            "HAN_weights.04-1.58.hdf5  HAN_weights.31-0.89.hdf5\n",
            "HAN_weights.05-0.29.hdf5  HAN_weights.33-0.86.hdf5\n",
            "HAN_weights.05-0.30.hdf5  HAN_weights.34-0.82.hdf5\n",
            "HAN_weights.05-1.46.hdf5  ngrok\n",
            "HAN_weights.06-0.31.hdf5  ngrok-stable-linux-amd64.zip\n",
            "HAN_weights.06-1.32.hdf5  out.txt\n",
            "HAN_weights.07-0.19.hdf5  sample_data\n",
            "HAN_weights.08-0.16.hdf5\n"
          ],
          "name": "stdout"
        }
      ]
    },
    {
      "cell_type": "code",
      "metadata": {
        "id": "yxpBpPCy3Om5",
        "colab_type": "code",
        "colab": {}
      },
      "source": [
        "from keras.utils.vis_utils import plot_model\n",
        "plot_model(best_model, to_file='han_model.png', show_shapes=True, show_layer_names=True)"
      ],
      "execution_count": 0,
      "outputs": []
    },
    {
      "cell_type": "code",
      "metadata": {
        "id": "T2Ywl1gy6HHA",
        "colab_type": "code",
        "outputId": "fa403013-2e2d-483e-8899-bf7cd598c9ce",
        "colab": {
          "base_uri": "https://localhost:8080/",
          "height": 423
        }
      },
      "source": [
        "from PIL import Image\n",
        "display(Image.open('han_model.png'))"
      ],
      "execution_count": 0,
      "outputs": [
        {
          "output_type": "display_data",
          "data": {
            "image/png": "[encoded data removed]",
            "text/plain": [
              "<PIL.PngImagePlugin.PngImageFile image mode=RGB size=677x405 at 0x7F94BA307F98>"
            ]
          },
          "metadata": {
            "tags": []
          }
        }
      ]
    },
    {
      "cell_type": "code",
      "metadata": {
        "id": "rNLGz9iV6KXj",
        "colab_type": "code",
        "colab": {}
      },
      "source": [
        ""
      ],
      "execution_count": 0,
      "outputs": []
    }
  ]
}